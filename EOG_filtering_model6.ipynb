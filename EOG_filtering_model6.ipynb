{
 "cells": [
  {
   "cell_type": "code",
   "execution_count": 152,
   "metadata": {},
   "outputs": [],
   "source": [
    "def featureExtraction(fileDir, minCount, maxCount, leftLight):\n",
    "    userHp1 = []\n",
    "    userLp1 = []\n",
    "    userLhpl1 = []\n",
    "    userLlpl1 = []\n",
    "    userHpl1 = []\n",
    "    userLpl1 = []\n",
    "    userLhpg1 = []\n",
    "    userLlpg1 = []\n",
    "    userRhpg1 = []\n",
    "    userRlpg1 = []\n",
    "    userBlink1 = []\n",
    "    userNotBlink1 = []\n",
    "    \n",
    "    for count in range(minCount, maxCount):\n",
    "        file = open(fileDir + '/file' + str(count) + '-' + str(leftLight) + '.txt', 'r')\n",
    "        x = file.read()\n",
    "        file.close()\n",
    "    \n",
    "        x = x.split(',')\n",
    "    \n",
    "        data1 = []\n",
    "    \n",
    "        for index, item in enumerate(x):\n",
    "            data1.append(float(item))\n",
    "        \n",
    "        for index, item in enumerate(x):\n",
    "            if(index != len(data1) -1):\n",
    "                data1[index] = data1[index + 1]\n",
    "            \n",
    "        temp = 0\n",
    "        index = 0\n",
    "\n",
    "        start1 = []\n",
    "        middle1 = []\n",
    "        finish1 = []\n",
    "\n",
    "        for i in range(0, len(data1)):\n",
    "            if((temp + 150 < i) and (data1[i] > 100)):\n",
    "                for j in range(i, 0, -1):\n",
    "                    if(data1[j] <= 0):\n",
    "                        start1.append(j)\n",
    "                        break\n",
    "                \n",
    "                for j in range(start1[index] + 1, len(data1)):\n",
    "                    if(data1[j] <= 0):\n",
    "                        middle1.append(j)\n",
    "                        break\n",
    "                \n",
    "                for j in range(middle1[index] + 1, len(data1)):\n",
    "                    if(data1[j] >= 0):\n",
    "                        finish1.append(j)\n",
    "                        break\n",
    "                \n",
    "                i = finish1[index]\n",
    "                index = index + 1\n",
    "                temp = i\n",
    "   \n",
    "        temp = 0\n",
    "    \n",
    "        hp1 = []\n",
    "        lp1 = []\n",
    "        lhpl1 = []\n",
    "        llpl1 = []\n",
    "        hpl1 = []\n",
    "        lpl1 = []\n",
    "        lhpg1 = []\n",
    "        llpg1 = []\n",
    "        rhpg1 = []\n",
    "        rlpg1 = []\n",
    "        blink1 = []\n",
    "        notBlink1 = []\n",
    "    \n",
    "        index = 0;\n",
    "    \n",
    "        for i in range(start1[0], finish1[len(finish1) - 1]):\n",
    "            hp1.append(0)\n",
    "            lp1.append(0)\n",
    "            lhpl1.append(0)\n",
    "            llpl1.append(0)\n",
    "            hpl1.append(0)\n",
    "            lpl1.append(0)\n",
    "            lhpg1.append(0)\n",
    "            llpg1.append(0)\n",
    "            rhpg1.append(0)\n",
    "            rlpg1.append(0)\n",
    "            blink1.append(0)\n",
    "            notBlink1.append(0)\n",
    "    \n",
    "            for j in range(start1[index], finish1[index]):\n",
    "                if(hp1[index] < data1[j]):\n",
    "                    hp1[index] = data1[j]\n",
    "                    lhpl1[index] = j - start1[index]\n",
    "    \n",
    "            for j in range(start1[index], finish1[index]):\n",
    "                if(hp1[index] > data1[j]):\n",
    "                    lp1[index] = data1[j]\n",
    "                    llpl1[index] = j - start1[index]\n",
    "            \n",
    "            hpl1[index] = middle1[index] - start1[index]\n",
    "            lpl1[index] = finish1[index] - middle1[index]\n",
    "    \n",
    "            lhpg1[index] = hp1[index] / lhpl1[index]\n",
    "            llpg1[index] = lp1[index] / llpl1[index]\n",
    "            rhpg1[index] = hp1[index] / (hpl1[index] - lhpg1[index])\n",
    "            rlpg1[index] = lp1[index] / (lpl1[index] - llpl1[index])\n",
    "    \n",
    "            index = index + 1\n",
    "    \n",
    "            if(len(start1) == index):\n",
    "                break\n",
    "    \n",
    "            i = start1[index]\n",
    "        \n",
    "        index = 0;\n",
    "        \n",
    "        for i in range(0, len(finish1)):\n",
    "            blink1[i] = finish1[i] - start1[i]\n",
    "\n",
    "        for i in range(0, len(finish1) - 1):\n",
    "            notBlink1[i] = start1[i + 1] - finish1[i]\n",
    "        \n",
    "        for i in range(0, len(finish1)):\n",
    "            userHp1.append(hp1[i])\n",
    "            userLp1.append(lp1[i])\n",
    "            userLhpl1.append(lhpl1[i])\n",
    "            userLlpl1.append(llpl1[i])\n",
    "            userHpl1.append(hpl1[i])\n",
    "            userLpl1.append(lpl1[i])\n",
    "            userLhpg1.append(lhpg1[i])\n",
    "            userLlpg1.append(llpg1[i])\n",
    "            userRhpg1.append(rhpg1[i])\n",
    "            userRlpg1.append(rlpg1[i])\n",
    "            userBlink1.append(blink1[i])\n",
    "            userNotBlink1.append(notBlink1[i])\n",
    "            \n",
    "    return userHp1, userLp1, userLhpl1, userLlpl1, userHpl1, userLpl1, userLhpg1, userLlpg1, userRhpg1, userRlpg1, userBlink1, userNotBlink1"
   ]
  },
  {
   "cell_type": "code",
   "execution_count": null,
   "metadata": {},
   "outputs": [],
   "source": []
  },
  {
   "cell_type": "code",
   "execution_count": 153,
   "metadata": {},
   "outputs": [],
   "source": [
    "user1Data  = []\n",
    "user1Label = []"
   ]
  },
  {
   "cell_type": "code",
   "execution_count": 154,
   "metadata": {},
   "outputs": [],
   "source": [
    "userHp1, userLp1, userLhpl1, userLlpl1, userHpl1, userLpl1, userLhpg1, userLlpg1, userRhpg1, userRlpg1, userBlink1, userNotBlink1 = featureExtraction('C:/EOGData/user1', 0, 49, 1)"
   ]
  },
  {
   "cell_type": "code",
   "execution_count": 155,
   "metadata": {},
   "outputs": [],
   "source": [
    "userHp2, userLp2, userLhpl2, userLlpl2, userHpl2, userLpl2, userLhpg2, userLlpg2, userRhpg2, userRlpg2, userBlink2, userNotBlink2 = featureExtraction('C:/EOGData/user1', 0, 49, 2)"
   ]
  },
  {
   "cell_type": "code",
   "execution_count": 156,
   "metadata": {},
   "outputs": [],
   "source": [
    "sum = len(userHp1) +len(userHp2)"
   ]
  },
  {
   "cell_type": "code",
   "execution_count": 157,
   "metadata": {},
   "outputs": [],
   "source": [
    "userHp1 = userHp1 + userHp2\n",
    "userLp1 = userLp1 + userLp2\n",
    "userLhpl1 = userLhpl1 + userLhpl2\n",
    "userLlpl1 = userLlpl1 + userLlpl2\n",
    "userHpl1 = userHpl1 + userHpl2\n",
    "userLpl1 = userLpl1 + userLpl2\n",
    "userLhpg1 = userLhpg1 + userLhpg2\n",
    "userLlpg1 = userLlpg1 + userLlpg2\n",
    "userRhpg1 = userRhpg1 + userRhpg2\n",
    "userRlpg1 = userRlpg1 + userRlpg2\n",
    "userBlink1 = userBlink1 + userBlink2\n",
    "userNotBlink1 = userNotBlink1 + userNotBlink2"
   ]
  },
  {
   "cell_type": "code",
   "execution_count": 158,
   "metadata": {},
   "outputs": [],
   "source": [
    "for i in range(0, sum):\n",
    "    user1Data.append([userHp1[i], userLp1[i], userLhpl1[i], userLlpl1[i], userHpl1[i], userLpl1[i], userLhpg1[i], userLlpg1[i], userRhpg1[i], userRlpg1[i], userBlink1[i], userNotBlink1[i]])\n",
    "    user1Label.append(0)"
   ]
  },
  {
   "cell_type": "code",
   "execution_count": null,
   "metadata": {},
   "outputs": [],
   "source": []
  },
  {
   "cell_type": "code",
   "execution_count": 159,
   "metadata": {},
   "outputs": [],
   "source": [
    "user2Data  = []\n",
    "user2Label = []"
   ]
  },
  {
   "cell_type": "code",
   "execution_count": 160,
   "metadata": {},
   "outputs": [],
   "source": [
    "userHp1, userLp1, userLhpl1, userLlpl1, userHpl1, userLpl1, userLhpg1, userLlpg1, userRhpg1, userRlpg1, userBlink1, userNotBlink1 = featureExtraction('C:/EOGData/user2', 0, 49, 1)"
   ]
  },
  {
   "cell_type": "code",
   "execution_count": 161,
   "metadata": {},
   "outputs": [],
   "source": [
    "userHp2, userLp2, userLhpl2, userLlpl2, userHpl2, userLpl2, userLhpg2, userLlpg2, userRhpg2, userRlpg2, userBlink2, userNotBlink2 = featureExtraction('C:/EOGData/user2', 0, 49, 2)"
   ]
  },
  {
   "cell_type": "code",
   "execution_count": 162,
   "metadata": {},
   "outputs": [],
   "source": [
    "sum = len(userHp1) +len(userHp2)"
   ]
  },
  {
   "cell_type": "code",
   "execution_count": 163,
   "metadata": {},
   "outputs": [],
   "source": [
    "userHp1 = userHp1 + userHp2\n",
    "userLp1 = userLp1 + userLp2\n",
    "userLhpl1 = userLhpl1 + userLhpl2\n",
    "userLlpl1 = userLlpl1 + userLlpl2\n",
    "userHpl1 = userHpl1 + userHpl2\n",
    "userLpl1 = userLpl1 + userLpl2\n",
    "userLhpg1 = userLhpg1 + userLhpg2\n",
    "userLlpg1 = userLlpg1 + userLlpg2\n",
    "userRhpg1 = userRhpg1 + userRhpg2\n",
    "userRlpg1 = userRlpg1 + userRlpg2\n",
    "userBlink1 = userBlink1 + userBlink2\n",
    "userNotBlink1 = userNotBlink1 + userNotBlink2"
   ]
  },
  {
   "cell_type": "code",
   "execution_count": 164,
   "metadata": {},
   "outputs": [],
   "source": [
    "for i in range(0, sum):\n",
    "    user2Data.append([userHp1[i], userLp1[i], userLhpl1[i], userLlpl1[i], userHpl1[i], userLpl1[i], userLhpg1[i], userLlpg1[i], userRhpg1[i], userRlpg1[i], userBlink1[i], userNotBlink1[i]])\n",
    "    user2Label.append(1)"
   ]
  },
  {
   "cell_type": "code",
   "execution_count": null,
   "metadata": {},
   "outputs": [],
   "source": []
  },
  {
   "cell_type": "code",
   "execution_count": 165,
   "metadata": {},
   "outputs": [],
   "source": [
    "user3Data  = []\n",
    "user3Label = []"
   ]
  },
  {
   "cell_type": "code",
   "execution_count": 166,
   "metadata": {},
   "outputs": [],
   "source": [
    "userHp1, userLp1, userLhpl1, userLlpl1, userHpl1, userLpl1, userLhpg1, userLlpg1, userRhpg1, userRlpg1, userBlink1, userNotBlink1 = featureExtraction('C:/EOGData/artifact/doridori', 0, 3, 1)"
   ]
  },
  {
   "cell_type": "code",
   "execution_count": 167,
   "metadata": {},
   "outputs": [],
   "source": [
    "userHp2, userLp2, userLhpl2, userLlpl2, userHpl2, userLpl2, userLhpg2, userLlpg2, userRhpg2, userRlpg2, userBlink2, userNotBlink2 = featureExtraction('C:/EOGData/artifact/doridori', 0, 3, 2)"
   ]
  },
  {
   "cell_type": "code",
   "execution_count": 168,
   "metadata": {},
   "outputs": [],
   "source": [
    "sum = len(userHp1) +len(userHp2)"
   ]
  },
  {
   "cell_type": "code",
   "execution_count": 169,
   "metadata": {},
   "outputs": [],
   "source": [
    "userHp1 = userHp1 + userHp2\n",
    "userLp1 = userLp1 + userLp2\n",
    "userLhpl1 = userLhpl1 + userLhpl2\n",
    "userLlpl1 = userLlpl1 + userLlpl2\n",
    "userHpl1 = userHpl1 + userHpl2\n",
    "userLpl1 = userLpl1 + userLpl2\n",
    "userLhpg1 = userLhpg1 + userLhpg2\n",
    "userLlpg1 = userLlpg1 + userLlpg2\n",
    "userRhpg1 = userRhpg1 + userRhpg2\n",
    "userRlpg1 = userRlpg1 + userRlpg2\n",
    "userBlink1 = userBlink1 + userBlink2\n",
    "userNotBlink1 = userNotBlink1 + userNotBlink2"
   ]
  },
  {
   "cell_type": "code",
   "execution_count": 170,
   "metadata": {},
   "outputs": [],
   "source": [
    "for i in range(0, sum):\n",
    "    user3Data.append([userHp1[i], userLp1[i], userLhpl1[i], userLlpl1[i], userHpl1[i], userLpl1[i], userLhpg1[i], userLlpg1[i], userRhpg1[i], userRlpg1[i], userBlink1[i], userNotBlink1[i]])\n",
    "    user3Label.append(2)"
   ]
  },
  {
   "cell_type": "code",
   "execution_count": null,
   "metadata": {},
   "outputs": [],
   "source": []
  },
  {
   "cell_type": "code",
   "execution_count": 171,
   "metadata": {},
   "outputs": [],
   "source": [
    "import numpy as np"
   ]
  },
  {
   "cell_type": "code",
   "execution_count": 172,
   "metadata": {},
   "outputs": [],
   "source": [
    "user1Data = np.array(user1Data)\n",
    "user2Data = np.array(user2Data)\n",
    "user3Data = np.array(user3Data)\n",
    "\n",
    "user1Label = np.array(user1Label)\n",
    "user2Label = np.array(user2Label)\n",
    "user3Label = np.array(user3Label)"
   ]
  },
  {
   "cell_type": "code",
   "execution_count": 173,
   "metadata": {},
   "outputs": [],
   "source": [
    "data = np.concatenate((user1Data, user2Data, user3Data), axis=0)"
   ]
  },
  {
   "cell_type": "code",
   "execution_count": 174,
   "metadata": {},
   "outputs": [
    {
     "data": {
      "text/plain": [
       "3239"
      ]
     },
     "execution_count": 174,
     "metadata": {},
     "output_type": "execute_result"
    }
   ],
   "source": [
    "len(data)"
   ]
  },
  {
   "cell_type": "code",
   "execution_count": 175,
   "metadata": {},
   "outputs": [],
   "source": [
    "label = np.concatenate((user1Label, user2Label, user3Label), axis=0)"
   ]
  },
  {
   "cell_type": "code",
   "execution_count": 176,
   "metadata": {},
   "outputs": [
    {
     "data": {
      "text/plain": [
       "3239"
      ]
     },
     "execution_count": 176,
     "metadata": {},
     "output_type": "execute_result"
    }
   ],
   "source": [
    "len(label)"
   ]
  },
  {
   "cell_type": "code",
   "execution_count": null,
   "metadata": {},
   "outputs": [],
   "source": []
  },
  {
   "cell_type": "code",
   "execution_count": 177,
   "metadata": {},
   "outputs": [],
   "source": [
    "s = np.arange(data.shape[0])\n",
    "np.random.shuffle(s)"
   ]
  },
  {
   "cell_type": "code",
   "execution_count": 178,
   "metadata": {},
   "outputs": [],
   "source": [
    "data = data[s]\n",
    "label = label[s]"
   ]
  },
  {
   "cell_type": "code",
   "execution_count": 179,
   "metadata": {},
   "outputs": [
    {
     "data": {
      "text/plain": [
       "array([0, 1, 2, ..., 0, 0, 2])"
      ]
     },
     "execution_count": 179,
     "metadata": {},
     "output_type": "execute_result"
    }
   ],
   "source": [
    "label"
   ]
  },
  {
   "cell_type": "code",
   "execution_count": 180,
   "metadata": {},
   "outputs": [],
   "source": [
    "tempLabel = []\n",
    "testLabel = label"
   ]
  },
  {
   "cell_type": "code",
   "execution_count": 181,
   "metadata": {},
   "outputs": [],
   "source": [
    "for i in range(0, len(label)):\n",
    "    if(label[i] == 0):\n",
    "        tempLabel.append([1, 0, 0])\n",
    "    elif(label[i] == 1):\n",
    "        tempLabel.append([0, 1, 0])\n",
    "    else:\n",
    "        tempLabel.append([0, 0, 1])"
   ]
  },
  {
   "cell_type": "code",
   "execution_count": 182,
   "metadata": {},
   "outputs": [],
   "source": [
    "label = tempLabel"
   ]
  },
  {
   "cell_type": "code",
   "execution_count": 183,
   "metadata": {},
   "outputs": [],
   "source": [
    "label = np.array(label)"
   ]
  },
  {
   "cell_type": "code",
   "execution_count": 184,
   "metadata": {},
   "outputs": [],
   "source": [
    "train_data = data[:2500]\n",
    "val_data = data[2500:]\n",
    "\n",
    "train_label = label[:2500]\n",
    "val_label = label[2500:]"
   ]
  },
  {
   "cell_type": "code",
   "execution_count": null,
   "metadata": {},
   "outputs": [],
   "source": []
  },
  {
   "cell_type": "code",
   "execution_count": 185,
   "metadata": {},
   "outputs": [],
   "source": [
    "mean = train_data.mean(axis=0)\n",
    "train_data -= mean\n",
    "std = train_data.std(axis=0)\n",
    "train_data /= std\n",
    "\n",
    "val_data -= mean\n",
    "val_data /= std"
   ]
  },
  {
   "cell_type": "code",
   "execution_count": null,
   "metadata": {},
   "outputs": [],
   "source": []
  },
  {
   "cell_type": "code",
   "execution_count": 186,
   "metadata": {},
   "outputs": [],
   "source": [
    "from keras import models\n",
    "from keras import layers\n",
    "from keras import regularizers\n",
    "from keras import optimizers"
   ]
  },
  {
   "cell_type": "code",
   "execution_count": 187,
   "metadata": {},
   "outputs": [],
   "source": [
    "from sklearn.model_selection import train_test_split\n",
    "from sklearn.linear_model import LogisticRegression\n",
    "from sklearn.metrics import confusion_matrix\n",
    "import pandas as pd\n",
    "from sklearn.metrics import roc_auc_score\n",
    "from sklearn.metrics import roc_curve\n",
    "from sklearn.metrics import auc\n",
    "\n",
    "\n",
    "import matplotlib as mpl\n",
    "import matplotlib.pyplot as plt"
   ]
  },
  {
   "cell_type": "code",
   "execution_count": 188,
   "metadata": {},
   "outputs": [],
   "source": [
    "def build_model(actiFunc, lossFunc, hidden, node, dropout):\n",
    "    model = models.Sequential()\n",
    "    \n",
    "    model.add(layers.Dense(node[0], activation=actiFunc, input_shape=(12, )))\n",
    "    model.add(layers.Dropout(dropout))\n",
    "    \n",
    "    if(hidden == 2):\n",
    "        model.add(layers.Dense(node[1], activation=actiFunc))\n",
    "        model.add(layers.Dropout(dropout))\n",
    "    \n",
    "    if(hidden == 3):\n",
    "        model.add(layers.Dense(node[1], activation=actiFunc))\n",
    "        model.add(layers.Dropout(dropout))\n",
    "        model.add(layers.Dense(node[2], activation=actiFunc))\n",
    "        model.add(layers.Dropout(dropout))\n",
    "    \n",
    "    model.add(layers.Dense(3, activation='softmax'))\n",
    "    model.compile(optimizer='rmsprop', loss=lossFunc, metrics=['accuracy'])\n",
    "    return model"
   ]
  },
  {
   "cell_type": "code",
   "execution_count": 201,
   "metadata": {
    "scrolled": false
   },
   "outputs": [
    {
     "name": "stdout",
     "output_type": "stream",
     "text": [
      "_________________________________________________________________\n",
      "Layer (type)                 Output Shape              Param #   \n",
      "=================================================================\n",
      "dense_49 (Dense)             (None, 32)                416       \n",
      "_________________________________________________________________\n",
      "dropout_37 (Dropout)         (None, 32)                0         \n",
      "_________________________________________________________________\n",
      "dense_50 (Dense)             (None, 4)                 132       \n",
      "_________________________________________________________________\n",
      "dropout_38 (Dropout)         (None, 4)                 0         \n",
      "_________________________________________________________________\n",
      "dense_51 (Dense)             (None, 16)                80        \n",
      "_________________________________________________________________\n",
      "dropout_39 (Dropout)         (None, 16)                0         \n",
      "_________________________________________________________________\n",
      "dense_52 (Dense)             (None, 3)                 51        \n",
      "=================================================================\n",
      "Total params: 679\n",
      "Trainable params: 679\n",
      "Non-trainable params: 0\n",
      "_________________________________________________________________\n",
      "loss min : 0.28368093843631076   acc max: 0.8971583204437173\n",
      "loss mean : 0.3154901849544016   acc mean: 0.8817095181140269\n"
     ]
    },
    {
     "data": {
      "image/png": "[encoded data removed]",
      "text/plain": [
       "<Figure size 432x288 with 2 Axes>"
      ]
     },
     "metadata": {
      "needs_background": "light"
     },
     "output_type": "display_data"
    }
   ],
   "source": [
    "import numpy as np\n",
    "\n",
    "num_epochs = 300\n",
    "\n",
    "\n",
    "actiFunc = ['relu']\n",
    "lossFunc = ['categorical_crossentropy']\n",
    "hidden = [3]\n",
    "#node = [[4, 4], [4, 8], [4, 16], [4, 32], [8, 4], [8, 8], [8, 16], [8, 32], [16, 4], [16, 8], [16, 16], [16, 32], [32, 4], [32, 8], [32, 16], [32, 32]]\n",
    "node = [\n",
    "    [16, 4, 4], [16, 4, 8], [16, 4, 16], [16, 4, 32], [16, 8, 4], [16, 8, 8], [16, 8, 16], [16, 8, 32], [16, 16, 4], [16, 16, 8], [16, 16, 16], [16, 16, 32], [16, 32, 4], [16, 32, 8], [16, 32, 16], [16, 32, 32],\n",
    "    [32, 4, 4], [32, 4, 8], [32, 4, 16], [32, 4, 32], [32, 8, 4], [32, 8, 8], [32, 8, 16], [32, 8, 32], [32, 16, 4], [32, 16, 8], [32, 16, 16], [32, 16, 32], [32, 32, 4], [32, 32, 8], [32, 32, 16], [32, 32, 32]\n",
    "]\n",
    "batchSize = [128]\n",
    "dropout = [0.1]\n",
    "\n",
    "all_acc_histories = []\n",
    "all_loss_histories = []\n",
    "\n",
    "    \n",
    "model = build_model(actiFunc[0], lossFunc[0], hidden[0], node[18], dropout[0])\n",
    "\n",
    "model.summary()\n",
    "            \n",
    "history = model.fit(train_data, train_label, validation_data=(val_data, val_label), epochs=num_epochs, batch_size=batchSize[0], verbose=False)\n",
    "    \n",
    "acc_history = history.history['val_acc']\n",
    "all_acc_histories.append(acc_history)\n",
    "loss_history = history.history['val_loss']\n",
    "all_loss_histories.append(loss_history)\n",
    "    \n",
    "print('loss min :', min(loss_history), '  acc max:', max(acc_history))\n",
    "print('loss mean :', np.mean(loss_history), '  acc mean:', np.mean(acc_history))\n",
    "\n",
    "\n",
    "import matplotlib.pyplot as plt\n",
    "\n",
    "fig, loss_ax = plt.subplots()\n",
    "acc_ax = loss_ax.twinx()\n",
    "\n",
    "loss_ax.plot(history.history['loss'], 'y', label='train loss')\n",
    "loss_ax.plot(history.history['val_loss'], 'r', label='val loss')\n",
    "\n",
    "acc_ax.plot(history.history['acc'], 'b', label='train acc')\n",
    "acc_ax.plot(history.history['val_acc'], 'g', label='val acc')\n",
    "\n",
    "loss_ax.set_xlabel('epoch')\n",
    "loss_ax.set_ylabel('loss')\n",
    "acc_ax.set_ylabel('accuray')\n",
    "\n",
    "loss_ax.legend(loc='upper left')\n",
    "acc_ax.legend(loc='lower left')\n",
    "\n",
    "plt.show()"
   ]
  },
  {
   "cell_type": "code",
   "execution_count": null,
   "metadata": {},
   "outputs": [],
   "source": []
  },
  {
   "cell_type": "code",
   "execution_count": null,
   "metadata": {},
   "outputs": [],
   "source": []
  },
  {
   "cell_type": "code",
   "execution_count": null,
   "metadata": {},
   "outputs": [],
   "source": []
  },
  {
   "cell_type": "code",
   "execution_count": 207,
   "metadata": {},
   "outputs": [],
   "source": [
    "y_val_cat_prob = model.predict_proba(val_data)"
   ]
  },
  {
   "cell_type": "code",
   "execution_count": 219,
   "metadata": {
    "scrolled": false
   },
   "outputs": [],
   "source": [
    "test_data = []\n",
    "test_label = []\n",
    "#print(y_val_cat_prob[1].index(1))\n",
    "for i in range(0, len(y_val_cat_prob)):    \n",
    "    if(np.argmax(y_val_cat_prob[i]) == 2):\n",
    "        test_data.append(max(y_val_cat_prob[i]))\n",
    "        # test_data.append(1)\n",
    "    else:\n",
    "        test_data.append(1 - (max(y_val_cat_prob[i])))\n",
    "    \n",
    "    if(testLabel[i] == 2):\n",
    "        test_label.append(1)\n",
    "    else:\n",
    "        test_label.append(0)"
   ]
  },
  {
   "cell_type": "code",
   "execution_count": null,
   "metadata": {},
   "outputs": [],
   "source": [
    "test_data = []\n",
    "test_label = []\n",
    "#print(y_val_cat_prob[1].index(1))\n",
    "for i in range(0, len(y_val_cat_prob)):\n",
    "    test_data.append(np.argmax(y_val_cat_prob[i]))\n",
    "    test_label.append(testLabel[i])"
   ]
  },
  {
   "cell_type": "code",
   "execution_count": 208,
   "metadata": {
    "scrolled": false
   },
   "outputs": [
    {
     "data": {
      "text/plain": [
       "array([[2.0422686e-03, 9.9774808e-01, 2.0964265e-04],\n",
       "       [9.9958116e-01, 1.8450044e-06, 4.1708417e-04],\n",
       "       [1.3364127e-03, 9.9857485e-01, 8.8642963e-05],\n",
       "       ...,\n",
       "       [9.9833208e-01, 2.2557149e-05, 1.6453551e-03],\n",
       "       [9.9910420e-01, 3.3733224e-05, 8.6207542e-04],\n",
       "       [1.4050716e-02, 2.6563998e-02, 9.5938534e-01]], dtype=float32)"
      ]
     },
     "execution_count": 208,
     "metadata": {},
     "output_type": "execute_result"
    }
   ],
   "source": [
    "y_val_cat_prob"
   ]
  },
  {
   "cell_type": "code",
   "execution_count": 224,
   "metadata": {},
   "outputs": [],
   "source": [
    "from sklearn.metrics import roc_curve, roc_auc_score\n",
    "\n",
    "fpr, tpr, thresholds = roc_curve(test_label, test_data)"
   ]
  },
  {
   "cell_type": "code",
   "execution_count": 229,
   "metadata": {},
   "outputs": [],
   "source": [
    "auc=  auc(fpr, tpr)"
   ]
  },
  {
   "cell_type": "code",
   "execution_count": 238,
   "metadata": {},
   "outputs": [
    {
     "name": "stderr",
     "output_type": "stream",
     "text": [
      "No handles with labels found to put in legend.\n"
     ]
    },
    {
     "data": {
      "image/png": "[encoded data removed]",
      "text/plain": [
       "<Figure size 432x288 with 1 Axes>"
      ]
     },
     "metadata": {
      "needs_background": "light"
     },
     "output_type": "display_data"
    }
   ],
   "source": [
    "plt.figure()\n",
    "lw = 2\n",
    "plt.plot(fpr, tpr, color='darkorange')\n",
    "plt.plot([0, 1], [0, 1], color='navy', lw=lw, linestyle='--')\n",
    "\n",
    "plt.xlim([0.0, 1.0])\n",
    "plt.ylim([0.0, 1.05])\n",
    "\n",
    "plt.xlabel('False Positive Rate')\n",
    "plt.ylabel('True Positive Rate')\n",
    "plt.title('Receiver operating characteristic example')\n",
    "plt.legend(loc=\"lower right\")\n",
    "plt.show()"
   ]
  },
  {
   "cell_type": "code",
   "execution_count": 230,
   "metadata": {},
   "outputs": [
    {
     "ename": "NameError",
     "evalue": "name 'fpr_keras' is not defined",
     "output_type": "error",
     "traceback": [
      "\u001b[1;31m---------------------------------------------------------------------------\u001b[0m",
      "\u001b[1;31mNameError\u001b[0m                                 Traceback (most recent call last)",
      "\u001b[1;32m<ipython-input-230-ee98755ed422>\u001b[0m in \u001b[0;36m<module>\u001b[1;34m\u001b[0m\n\u001b[0;32m      1\u001b[0m \u001b[0mplt\u001b[0m\u001b[1;33m.\u001b[0m\u001b[0mfigure\u001b[0m\u001b[1;33m(\u001b[0m\u001b[1;36m1\u001b[0m\u001b[1;33m)\u001b[0m\u001b[1;33m\u001b[0m\u001b[1;33m\u001b[0m\u001b[0m\n\u001b[0;32m      2\u001b[0m \u001b[0mplt\u001b[0m\u001b[1;33m.\u001b[0m\u001b[0mplot\u001b[0m\u001b[1;33m(\u001b[0m\u001b[1;33m[\u001b[0m\u001b[1;36m0\u001b[0m\u001b[1;33m,\u001b[0m \u001b[1;36m1\u001b[0m\u001b[1;33m]\u001b[0m\u001b[1;33m,\u001b[0m \u001b[1;33m[\u001b[0m\u001b[1;36m0\u001b[0m\u001b[1;33m,\u001b[0m \u001b[1;36m1\u001b[0m\u001b[1;33m]\u001b[0m\u001b[1;33m,\u001b[0m \u001b[1;34m'k--'\u001b[0m\u001b[1;33m)\u001b[0m\u001b[1;33m\u001b[0m\u001b[1;33m\u001b[0m\u001b[0m\n\u001b[1;32m----> 3\u001b[1;33m \u001b[0mplt\u001b[0m\u001b[1;33m.\u001b[0m\u001b[0mplot\u001b[0m\u001b[1;33m(\u001b[0m\u001b[0mfpr_keras\u001b[0m\u001b[1;33m,\u001b[0m \u001b[0mtpr_keras\u001b[0m\u001b[1;33m,\u001b[0m \u001b[0mlabel\u001b[0m\u001b[1;33m=\u001b[0m\u001b[1;34m'Keras (area = {:.3f})'\u001b[0m\u001b[1;33m.\u001b[0m\u001b[0mformat\u001b[0m\u001b[1;33m(\u001b[0m\u001b[0mauc_keras\u001b[0m\u001b[1;33m)\u001b[0m\u001b[1;33m)\u001b[0m\u001b[1;33m\u001b[0m\u001b[1;33m\u001b[0m\u001b[0m\n\u001b[0m\u001b[0;32m      4\u001b[0m \u001b[0mplt\u001b[0m\u001b[1;33m.\u001b[0m\u001b[0mplot\u001b[0m\u001b[1;33m(\u001b[0m\u001b[0mfpr_rf\u001b[0m\u001b[1;33m,\u001b[0m \u001b[0mtpr_rf\u001b[0m\u001b[1;33m,\u001b[0m \u001b[0mlabel\u001b[0m\u001b[1;33m=\u001b[0m\u001b[1;34m'RF (area = {:.3f})'\u001b[0m\u001b[1;33m.\u001b[0m\u001b[0mformat\u001b[0m\u001b[1;33m(\u001b[0m\u001b[0mauc_rf\u001b[0m\u001b[1;33m)\u001b[0m\u001b[1;33m)\u001b[0m\u001b[1;33m\u001b[0m\u001b[1;33m\u001b[0m\u001b[0m\n\u001b[0;32m      5\u001b[0m \u001b[0mplt\u001b[0m\u001b[1;33m.\u001b[0m\u001b[0mxlabel\u001b[0m\u001b[1;33m(\u001b[0m\u001b[1;34m'False positive rate'\u001b[0m\u001b[1;33m)\u001b[0m\u001b[1;33m\u001b[0m\u001b[1;33m\u001b[0m\u001b[0m\n",
      "\u001b[1;31mNameError\u001b[0m: name 'fpr_keras' is not defined"
     ]
    },
    {
     "data": {
      "image/png": "[encoded data removed]",
      "text/plain": [
       "<Figure size 432x288 with 1 Axes>"
      ]
     },
     "metadata": {
      "needs_background": "light"
     },
     "output_type": "display_data"
    }
   ],
   "source": [
    "import matplotlib.pyplot as plt\n",
    "\n",
    "fig, loss_ax = plt.subplots()\n",
    "acc_ax = loss_ax.twinx()\n",
    "\n",
    "loss_ax.plot(history.history['loss'], 'y', label='train loss')\n",
    "loss_ax.plot(history.history['val_loss'], 'r', label='val loss')\n",
    "\n",
    "acc_ax.plot(history.history['acc'], 'b', label='train acc')\n",
    "acc_ax.plot(history.history['val_acc'], 'g', label='val acc')\n",
    "\n",
    "loss_ax.set_xlabel('epoch')\n",
    "loss_ax.set_ylabel('loss')\n",
    "acc_ax.set_ylabel('accuray')\n",
    "\n",
    "loss_ax.legend(loc='upper left')\n",
    "acc_ax.legend(loc='lower left')\n",
    "\n",
    "plt.show()"
   ]
  },
  {
   "cell_type": "code",
   "execution_count": null,
   "metadata": {},
   "outputs": [],
   "source": []
  },
  {
   "cell_type": "code",
   "execution_count": 226,
   "metadata": {
    "scrolled": false
   },
   "outputs": [
    {
     "name": "stdout",
     "output_type": "stream",
     "text": [
      "[0.         0.         0.03486239 0.03486239 0.04036697 0.04036697\n",
      " 0.05504587 0.05504587 0.06422018 0.06422018 0.06788991 0.06788991\n",
      " 0.07522936 0.07522936 0.07706422 0.07706422 0.08256881 0.08256881\n",
      " 0.08807339 0.08807339 0.08990826 0.08990826 0.09541284 0.09541284\n",
      " 0.10458716 0.10458716 0.10642202 0.10642202 0.10825688 0.10825688\n",
      " 0.11009174 0.11009174 0.11192661 0.11192661 0.11926606 0.11926606\n",
      " 0.12844037 0.12844037 0.13577982 0.13577982 0.14678899 0.14678899\n",
      " 0.15412844 0.15412844 0.16513761 0.16513761 0.16880734 0.16880734\n",
      " 0.17247706 0.17247706 0.18165138 0.18165138 0.18715596 0.18715596\n",
      " 0.18899083 0.18899083 0.19082569 0.19082569 0.19266055 0.19266055\n",
      " 0.20550459 0.20550459 0.21100917 0.21100917 0.21284404 0.21284404\n",
      " 0.21651376 0.21651376 0.22018349 0.22018349 0.22201835 0.22201835\n",
      " 0.22752294 0.22752294 0.23119266 0.23119266 0.23853211 0.23853211\n",
      " 0.2440367  0.2440367  0.26788991 0.26788991 0.27706422 0.27706422\n",
      " 0.28807339 0.28807339 0.32293578 0.32293578 0.32477064 0.32477064\n",
      " 0.33211009 0.33211009 0.33577982 0.33577982 0.3412844  0.3412844\n",
      " 0.35779817 0.35779817 0.36146789 0.36146789 0.36697248 0.36697248\n",
      " 0.38165138 0.38165138 0.38899083 0.38899083 0.39082569 0.39082569\n",
      " 0.40366972 0.40366972 0.4146789  0.4146789  0.41834862 0.41834862\n",
      " 0.42568807 0.42568807 0.43486239 0.43486239 0.43853211 0.43853211\n",
      " 0.44220183 0.44220183 0.45321101 0.45321101 0.46422018 0.46422018\n",
      " 0.46605505 0.46605505 0.48440367 0.48623853 0.49541284 0.49541284\n",
      " 0.50275229 0.50275229 0.50642202 0.50642202 0.50825688 0.50825688\n",
      " 0.51009174 0.51009174 0.51376147 0.51376147 0.51559633 0.51559633\n",
      " 0.51926606 0.52110092 0.52110092 0.52477064 0.52477064 0.54495413\n",
      " 0.54495413 0.54678899 0.54678899 0.54862385 0.54862385 0.55045872\n",
      " 0.55045872 0.55229358 0.55229358 0.5559633  0.5559633  0.57247706\n",
      " 0.57247706 0.57431193 0.57431193 0.57798165 0.57798165 0.57981651\n",
      " 0.57981651 0.58348624 0.58348624 0.59449541 0.59449541 0.59633028\n",
      " 0.59633028 0.6        0.6        0.60183486 0.60183486 0.60550459\n",
      " 0.60917431 0.61100917 0.61100917 0.62018349 0.62018349 0.62201835\n",
      " 0.62201835 0.63119266 0.63119266 0.63853211 0.64220183 0.6440367\n",
      " 0.6440367  0.64954128 0.64954128 0.65504587 0.65504587 0.65688073\n",
      " 0.66055046 0.66055046 0.67889908 0.67889908 0.68623853 0.68623853\n",
      " 0.68807339 0.68807339 0.68990826 0.68990826 0.69541284 0.69541284\n",
      " 0.71009174 0.71009174 0.71559633 0.71559633 0.7266055  0.7266055\n",
      " 0.73577982 0.73577982 0.73761468 0.73761468 0.74311927 0.74311927\n",
      " 0.75412844 0.75412844 0.77798165 0.77798165 0.78165138 0.78165138\n",
      " 0.78348624 0.78348624 0.79633028 0.79633028 0.79816514 0.79816514\n",
      " 0.8        0.8        0.80366972 0.80366972 0.80917431 0.80917431\n",
      " 0.82752294 0.82752294 0.8293578  0.8293578  0.83669725 0.83669725\n",
      " 0.84770642 0.84770642 0.85137615 0.85137615 0.8587156  0.8587156\n",
      " 0.86238532 0.86238532 0.86605505 0.86605505 0.86972477 0.86972477\n",
      " 0.8733945  0.8733945  0.87522936 0.87522936 0.87889908 0.87889908\n",
      " 0.88256881 0.88256881 0.88623853 0.88623853 0.90091743 0.90091743\n",
      " 0.91926606 0.91926606 0.92110092 0.92110092 0.92293578 0.92293578\n",
      " 0.92844037 0.92844037 0.93761468 0.93761468 0.94678899 0.94678899\n",
      " 0.94862385 0.94862385 0.9559633  0.9559633  0.9706422  0.9706422\n",
      " 0.97798165 0.97798165 0.9853211  0.9853211  0.99082569 0.99082569\n",
      " 1.         1.        ]\n"
     ]
    }
   ],
   "source": [
    "print(fpr)"
   ]
  },
  {
   "cell_type": "code",
   "execution_count": 223,
   "metadata": {},
   "outputs": [],
   "source": [
    "from sklearn.metrics import roc_curve, roc_auc_score\n",
    "\n",
    "fpr, tpr, thresholds = roc_curve(val_label, y_val_cat_prob)"
   ]
  },
  {
   "cell_type": "code",
   "execution_count": null,
   "metadata": {},
   "outputs": [],
   "source": []
  },
  {
   "cell_type": "code",
   "execution_count": null,
   "metadata": {},
   "outputs": [],
   "source": []
  },
  {
   "cell_type": "code",
   "execution_count": null,
   "metadata": {},
   "outputs": [],
   "source": []
  },
  {
   "cell_type": "code",
   "execution_count": 37,
   "metadata": {
    "scrolled": false
   },
   "outputs": [
    {
     "name": "stdout",
     "output_type": "stream",
     "text": [
      "Activation: relu   Loss: categorical_crossentropy   HiddenLayer: 3   Node:[ 16 , 4 , 4 ]  BatchSize: 128   Dropout: 0.1\n",
      "_________________________________________________________________\n",
      "Layer (type)                 Output Shape              Param #   \n",
      "=================================================================\n",
      "dense_1 (Dense)              (None, 16)                208       \n",
      "_________________________________________________________________\n",
      "dropout_1 (Dropout)          (None, 16)                0         \n",
      "_________________________________________________________________\n",
      "dense_2 (Dense)              (None, 4)                 68        \n",
      "_________________________________________________________________\n",
      "dropout_2 (Dropout)          (None, 4)                 0         \n",
      "_________________________________________________________________\n",
      "dense_3 (Dense)              (None, 4)                 20        \n",
      "_________________________________________________________________\n",
      "dropout_3 (Dropout)          (None, 4)                 0         \n",
      "_________________________________________________________________\n",
      "dense_4 (Dense)              (None, 3)                 15        \n",
      "=================================================================\n",
      "Total params: 311\n",
      "Trainable params: 311\n",
      "Non-trainable params: 0\n",
      "_________________________________________________________________\n",
      "loss min : 0.3577626804053703   acc max: 0.8917456044234506\n",
      "loss mean : 0.5048926860674792   acc mean: 0.8374424910811514\n",
      "\n",
      "\n",
      "Activation: relu   Loss: categorical_crossentropy   HiddenLayer: 3   Node:[ 16 , 4 , 8 ]  BatchSize: 128   Dropout: 0.1\n",
      "_________________________________________________________________\n",
      "Layer (type)                 Output Shape              Param #   \n",
      "=================================================================\n",
      "dense_5 (Dense)              (None, 16)                208       \n",
      "_________________________________________________________________\n",
      "dropout_4 (Dropout)          (None, 16)                0         \n",
      "_________________________________________________________________\n",
      "dense_6 (Dense)              (None, 4)                 68        \n",
      "_________________________________________________________________\n",
      "dropout_5 (Dropout)          (None, 4)                 0         \n",
      "_________________________________________________________________\n",
      "dense_7 (Dense)              (None, 8)                 40        \n",
      "_________________________________________________________________\n",
      "dropout_6 (Dropout)          (None, 8)                 0         \n",
      "_________________________________________________________________\n",
      "dense_8 (Dense)              (None, 3)                 27        \n",
      "=================================================================\n",
      "Total params: 343\n",
      "Trainable params: 343\n",
      "Non-trainable params: 0\n",
      "_________________________________________________________________\n",
      "loss min : 0.30998859317602745   acc max: 0.8985115015458351\n",
      "loss mean : 0.4418709596261604   acc mean: 0.8559539908037618\n",
      "\n",
      "\n",
      "Activation: relu   Loss: categorical_crossentropy   HiddenLayer: 3   Node:[ 16 , 4 , 16 ]  BatchSize: 128   Dropout: 0.1\n",
      "_________________________________________________________________\n",
      "Layer (type)                 Output Shape              Param #   \n",
      "=================================================================\n",
      "dense_9 (Dense)              (None, 16)                208       \n",
      "_________________________________________________________________\n",
      "dropout_7 (Dropout)          (None, 16)                0         \n",
      "_________________________________________________________________\n",
      "dense_10 (Dense)             (None, 4)                 68        \n",
      "_________________________________________________________________\n",
      "dropout_8 (Dropout)          (None, 4)                 0         \n",
      "_________________________________________________________________\n",
      "dense_11 (Dense)             (None, 16)                80        \n",
      "_________________________________________________________________\n",
      "dropout_9 (Dropout)          (None, 16)                0         \n",
      "_________________________________________________________________\n",
      "dense_12 (Dense)             (None, 3)                 51        \n",
      "=================================================================\n",
      "Total params: 407\n",
      "Trainable params: 407\n",
      "Non-trainable params: 0\n",
      "_________________________________________________________________\n",
      "loss min : 0.31104628380806426   acc max: 0.8971583215728987\n",
      "loss mean : 0.4377870059852186   acc mean: 0.8561975636965369\n",
      "\n",
      "\n",
      "Activation: relu   Loss: categorical_crossentropy   HiddenLayer: 3   Node:[ 16 , 4 , 32 ]  BatchSize: 128   Dropout: 0.1\n",
      "_________________________________________________________________\n",
      "Layer (type)                 Output Shape              Param #   \n",
      "=================================================================\n",
      "dense_13 (Dense)             (None, 16)                208       \n",
      "_________________________________________________________________\n",
      "dropout_10 (Dropout)         (None, 16)                0         \n",
      "_________________________________________________________________\n",
      "dense_14 (Dense)             (None, 4)                 68        \n",
      "_________________________________________________________________\n",
      "dropout_11 (Dropout)         (None, 4)                 0         \n",
      "_________________________________________________________________\n",
      "dense_15 (Dense)             (None, 32)                160       \n",
      "_________________________________________________________________\n",
      "dropout_12 (Dropout)         (None, 32)                0         \n",
      "_________________________________________________________________\n",
      "dense_16 (Dense)             (None, 3)                 99        \n",
      "=================================================================\n",
      "Total params: 535\n",
      "Trainable params: 535\n",
      "Non-trainable params: 0\n",
      "_________________________________________________________________\n",
      "loss min : 0.31398525648575193   acc max: 0.8917456044234506\n",
      "loss mean : 0.40457883773338815   acc mean: 0.8642760490975939\n",
      "\n",
      "\n",
      "Activation: relu   Loss: categorical_crossentropy   HiddenLayer: 3   Node:[ 16 , 8 , 4 ]  BatchSize: 128   Dropout: 0.1\n",
      "_________________________________________________________________\n",
      "Layer (type)                 Output Shape              Param #   \n",
      "=================================================================\n",
      "dense_17 (Dense)             (None, 16)                208       \n",
      "_________________________________________________________________\n",
      "dropout_13 (Dropout)         (None, 16)                0         \n",
      "_________________________________________________________________\n",
      "dense_18 (Dense)             (None, 8)                 136       \n",
      "_________________________________________________________________\n",
      "dropout_14 (Dropout)         (None, 8)                 0         \n",
      "_________________________________________________________________\n",
      "dense_19 (Dense)             (None, 4)                 36        \n",
      "_________________________________________________________________\n",
      "dropout_15 (Dropout)         (None, 4)                 0         \n",
      "_________________________________________________________________\n",
      "dense_20 (Dense)             (None, 3)                 15        \n",
      "=================================================================\n",
      "Total params: 395\n",
      "Trainable params: 395\n",
      "Non-trainable params: 0\n",
      "_________________________________________________________________\n",
      "loss min : 0.33447372485884797   acc max: 0.8849797045587687\n",
      "loss mean : 0.45066132256763725   acc mean: 0.8619756418337521\n",
      "\n",
      "\n",
      "Activation: relu   Loss: categorical_crossentropy   HiddenLayer: 3   Node:[ 16 , 8 , 8 ]  BatchSize: 128   Dropout: 0.1\n",
      "_________________________________________________________________\n",
      "Layer (type)                 Output Shape              Param #   \n",
      "=================================================================\n",
      "dense_21 (Dense)             (None, 16)                208       \n",
      "_________________________________________________________________\n",
      "dropout_16 (Dropout)         (None, 16)                0         \n",
      "_________________________________________________________________\n",
      "dense_22 (Dense)             (None, 8)                 136       \n",
      "_________________________________________________________________\n",
      "dropout_17 (Dropout)         (None, 8)                 0         \n",
      "_________________________________________________________________\n",
      "dense_23 (Dense)             (None, 8)                 72        \n",
      "_________________________________________________________________\n",
      "dropout_18 (Dropout)         (None, 8)                 0         \n",
      "_________________________________________________________________\n",
      "dense_24 (Dense)             (None, 3)                 27        \n",
      "=================================================================\n",
      "Total params: 443\n",
      "Trainable params: 443\n",
      "Non-trainable params: 0\n",
      "_________________________________________________________________\n"
     ]
    },
    {
     "name": "stdout",
     "output_type": "stream",
     "text": [
      "loss min : 0.298951228795742   acc max: 0.8958051415999623\n",
      "loss mean : 0.3930845727802776   acc mean: 0.8722327465690038\n",
      "\n",
      "\n",
      "Activation: relu   Loss: categorical_crossentropy   HiddenLayer: 3   Node:[ 16 , 8 , 16 ]  BatchSize: 128   Dropout: 0.1\n",
      "_________________________________________________________________\n",
      "Layer (type)                 Output Shape              Param #   \n",
      "=================================================================\n",
      "dense_25 (Dense)             (None, 16)                208       \n",
      "_________________________________________________________________\n",
      "dropout_19 (Dropout)         (None, 16)                0         \n",
      "_________________________________________________________________\n",
      "dense_26 (Dense)             (None, 8)                 136       \n",
      "_________________________________________________________________\n",
      "dropout_20 (Dropout)         (None, 8)                 0         \n",
      "_________________________________________________________________\n",
      "dense_27 (Dense)             (None, 16)                144       \n",
      "_________________________________________________________________\n",
      "dropout_21 (Dropout)         (None, 16)                0         \n",
      "_________________________________________________________________\n",
      "dense_28 (Dense)             (None, 3)                 51        \n",
      "=================================================================\n",
      "Total params: 539\n",
      "Trainable params: 539\n",
      "Non-trainable params: 0\n",
      "_________________________________________________________________\n",
      "loss min : 0.2920444290354062   acc max: 0.8944519629981746\n",
      "loss mean : 0.397408302836473   acc mean: 0.867658998210472\n",
      "\n",
      "\n",
      "Activation: relu   Loss: categorical_crossentropy   HiddenLayer: 3   Node:[ 16 , 8 , 32 ]  BatchSize: 128   Dropout: 0.1\n",
      "_________________________________________________________________\n",
      "Layer (type)                 Output Shape              Param #   \n",
      "=================================================================\n",
      "dense_29 (Dense)             (None, 16)                208       \n",
      "_________________________________________________________________\n",
      "dropout_22 (Dropout)         (None, 16)                0         \n",
      "_________________________________________________________________\n",
      "dense_30 (Dense)             (None, 8)                 136       \n",
      "_________________________________________________________________\n",
      "dropout_23 (Dropout)         (None, 8)                 0         \n",
      "_________________________________________________________________\n",
      "dense_31 (Dense)             (None, 32)                288       \n",
      "_________________________________________________________________\n",
      "dropout_24 (Dropout)         (None, 32)                0         \n",
      "_________________________________________________________________\n",
      "dense_32 (Dense)             (None, 3)                 99        \n",
      "=================================================================\n",
      "Total params: 731\n",
      "Trainable params: 731\n",
      "Non-trainable params: 0\n",
      "_________________________________________________________________\n",
      "loss min : 0.28272872501845614   acc max: 0.9025710414646443\n",
      "loss mean : 0.3634971411907303   acc mean: 0.8844654937671228\n",
      "\n",
      "\n",
      "Activation: relu   Loss: categorical_crossentropy   HiddenLayer: 3   Node:[ 16 , 16 , 4 ]  BatchSize: 128   Dropout: 0.1\n",
      "_________________________________________________________________\n",
      "Layer (type)                 Output Shape              Param #   \n",
      "=================================================================\n",
      "dense_33 (Dense)             (None, 16)                208       \n",
      "_________________________________________________________________\n",
      "dropout_25 (Dropout)         (None, 16)                0         \n",
      "_________________________________________________________________\n",
      "dense_34 (Dense)             (None, 16)                272       \n",
      "_________________________________________________________________\n",
      "dropout_26 (Dropout)         (None, 16)                0         \n",
      "_________________________________________________________________\n",
      "dense_35 (Dense)             (None, 4)                 68        \n",
      "_________________________________________________________________\n",
      "dropout_27 (Dropout)         (None, 4)                 0         \n",
      "_________________________________________________________________\n",
      "dense_36 (Dense)             (None, 3)                 15        \n",
      "=================================================================\n",
      "Total params: 563\n",
      "Trainable params: 563\n",
      "Non-trainable params: 0\n",
      "_________________________________________________________________\n",
      "loss min : 0.2889555484177456   acc max: 0.8903924230793655\n",
      "loss mean : 0.3958337784386133   acc mean: 0.8769959410408029\n",
      "\n",
      "\n",
      "Activation: relu   Loss: categorical_crossentropy   HiddenLayer: 3   Node:[ 16 , 16 , 8 ]  BatchSize: 128   Dropout: 0.1\n",
      "_________________________________________________________________\n",
      "Layer (type)                 Output Shape              Param #   \n",
      "=================================================================\n",
      "dense_37 (Dense)             (None, 16)                208       \n",
      "_________________________________________________________________\n",
      "dropout_28 (Dropout)         (None, 16)                0         \n",
      "_________________________________________________________________\n",
      "dense_38 (Dense)             (None, 16)                272       \n",
      "_________________________________________________________________\n",
      "dropout_29 (Dropout)         (None, 16)                0         \n",
      "_________________________________________________________________\n",
      "dense_39 (Dense)             (None, 8)                 136       \n",
      "_________________________________________________________________\n",
      "dropout_30 (Dropout)         (None, 8)                 0         \n",
      "_________________________________________________________________\n",
      "dense_40 (Dense)             (None, 3)                 27        \n",
      "=================================================================\n",
      "Total params: 643\n",
      "Trainable params: 643\n",
      "Non-trainable params: 0\n",
      "_________________________________________________________________\n",
      "loss min : 0.3142978040871988   acc max: 0.8944519602558771\n",
      "loss mean : 0.41398406145254874   acc mean: 0.8749255748417767\n",
      "\n",
      "\n",
      "Activation: relu   Loss: categorical_crossentropy   HiddenLayer: 3   Node:[ 16 , 16 , 16 ]  BatchSize: 128   Dropout: 0.1\n",
      "_________________________________________________________________\n",
      "Layer (type)                 Output Shape              Param #   \n",
      "=================================================================\n",
      "dense_41 (Dense)             (None, 16)                208       \n",
      "_________________________________________________________________\n",
      "dropout_31 (Dropout)         (None, 16)                0         \n",
      "_________________________________________________________________\n",
      "dense_42 (Dense)             (None, 16)                272       \n",
      "_________________________________________________________________\n",
      "dropout_32 (Dropout)         (None, 16)                0         \n",
      "_________________________________________________________________\n",
      "dense_43 (Dense)             (None, 16)                272       \n",
      "_________________________________________________________________\n",
      "dropout_33 (Dropout)         (None, 16)                0         \n",
      "_________________________________________________________________\n",
      "dense_44 (Dense)             (None, 3)                 51        \n",
      "=================================================================\n",
      "Total params: 803\n",
      "Trainable params: 803\n",
      "Non-trainable params: 0\n",
      "_________________________________________________________________\n",
      "loss min : 0.29620944949544975   acc max: 0.8985115029169839\n",
      "loss mean : 0.38337642331891186   acc mean: 0.8816102840201944\n",
      "\n",
      "\n",
      "Activation: relu   Loss: categorical_crossentropy   HiddenLayer: 3   Node:[ 16 , 16 , 32 ]  BatchSize: 128   Dropout: 0.1\n",
      "_________________________________________________________________\n",
      "Layer (type)                 Output Shape              Param #   \n",
      "=================================================================\n",
      "dense_45 (Dense)             (None, 16)                208       \n",
      "_________________________________________________________________\n",
      "dropout_34 (Dropout)         (None, 16)                0         \n",
      "_________________________________________________________________\n",
      "dense_46 (Dense)             (None, 16)                272       \n",
      "_________________________________________________________________\n",
      "dropout_35 (Dropout)         (None, 16)                0         \n",
      "_________________________________________________________________\n",
      "dense_47 (Dense)             (None, 32)                544       \n",
      "_________________________________________________________________\n",
      "dropout_36 (Dropout)         (None, 32)                0         \n",
      "_________________________________________________________________\n",
      "dense_48 (Dense)             (None, 3)                 99        \n",
      "=================================================================\n",
      "Total params: 1,123\n",
      "Trainable params: 1,123\n",
      "Non-trainable params: 0\n",
      "_________________________________________________________________\n"
     ]
    },
    {
     "ename": "KeyboardInterrupt",
     "evalue": "",
     "output_type": "error",
     "traceback": [
      "\u001b[1;31m---------------------------------------------------------------------------\u001b[0m",
      "\u001b[1;31mKeyboardInterrupt\u001b[0m                         Traceback (most recent call last)",
      "\u001b[1;32m<ipython-input-37-d2f64047e990>\u001b[0m in \u001b[0;36m<module>\u001b[1;34m\u001b[0m\n\u001b[0;32m     30\u001b[0m                         \u001b[0mmodel\u001b[0m\u001b[1;33m.\u001b[0m\u001b[0msummary\u001b[0m\u001b[1;33m(\u001b[0m\u001b[1;33m)\u001b[0m\u001b[1;33m\u001b[0m\u001b[1;33m\u001b[0m\u001b[0m\n\u001b[0;32m     31\u001b[0m \u001b[1;33m\u001b[0m\u001b[0m\n\u001b[1;32m---> 32\u001b[1;33m                         \u001b[0mhistory\u001b[0m \u001b[1;33m=\u001b[0m \u001b[0mmodel\u001b[0m\u001b[1;33m.\u001b[0m\u001b[0mfit\u001b[0m\u001b[1;33m(\u001b[0m\u001b[0mtrain_data\u001b[0m\u001b[1;33m,\u001b[0m \u001b[0mtrain_label\u001b[0m\u001b[1;33m,\u001b[0m \u001b[0mvalidation_data\u001b[0m\u001b[1;33m=\u001b[0m\u001b[1;33m(\u001b[0m\u001b[0mval_data\u001b[0m\u001b[1;33m,\u001b[0m \u001b[0mval_label\u001b[0m\u001b[1;33m)\u001b[0m\u001b[1;33m,\u001b[0m \u001b[0mepochs\u001b[0m\u001b[1;33m=\u001b[0m\u001b[0mnum_epochs\u001b[0m\u001b[1;33m,\u001b[0m \u001b[0mbatch_size\u001b[0m\u001b[1;33m=\u001b[0m\u001b[0mbatchSize\u001b[0m\u001b[1;33m[\u001b[0m\u001b[0mm\u001b[0m\u001b[1;33m]\u001b[0m\u001b[1;33m,\u001b[0m \u001b[0mverbose\u001b[0m\u001b[1;33m=\u001b[0m\u001b[1;32mFalse\u001b[0m\u001b[1;33m)\u001b[0m\u001b[1;33m\u001b[0m\u001b[1;33m\u001b[0m\u001b[0m\n\u001b[0m\u001b[0;32m     33\u001b[0m \u001b[1;33m\u001b[0m\u001b[0m\n\u001b[0;32m     34\u001b[0m                         \u001b[0macc_history\u001b[0m \u001b[1;33m=\u001b[0m \u001b[0mhistory\u001b[0m\u001b[1;33m.\u001b[0m\u001b[0mhistory\u001b[0m\u001b[1;33m[\u001b[0m\u001b[1;34m'val_acc'\u001b[0m\u001b[1;33m]\u001b[0m\u001b[1;33m\u001b[0m\u001b[1;33m\u001b[0m\u001b[0m\n",
      "\u001b[1;32m~\\anaconda3\\envs\\test_tensor\\lib\\site-packages\\keras\\models.py\u001b[0m in \u001b[0;36mfit\u001b[1;34m(self, x, y, batch_size, epochs, verbose, callbacks, validation_split, validation_data, shuffle, class_weight, sample_weight, initial_epoch, steps_per_epoch, validation_steps, **kwargs)\u001b[0m\n\u001b[0;32m    961\u001b[0m                               \u001b[0minitial_epoch\u001b[0m\u001b[1;33m=\u001b[0m\u001b[0minitial_epoch\u001b[0m\u001b[1;33m,\u001b[0m\u001b[1;33m\u001b[0m\u001b[1;33m\u001b[0m\u001b[0m\n\u001b[0;32m    962\u001b[0m                               \u001b[0msteps_per_epoch\u001b[0m\u001b[1;33m=\u001b[0m\u001b[0msteps_per_epoch\u001b[0m\u001b[1;33m,\u001b[0m\u001b[1;33m\u001b[0m\u001b[1;33m\u001b[0m\u001b[0m\n\u001b[1;32m--> 963\u001b[1;33m                               validation_steps=validation_steps)\n\u001b[0m\u001b[0;32m    964\u001b[0m \u001b[1;33m\u001b[0m\u001b[0m\n\u001b[0;32m    965\u001b[0m     def evaluate(self, x=None, y=None,\n",
      "\u001b[1;32m~\\anaconda3\\envs\\test_tensor\\lib\\site-packages\\keras\\engine\\training.py\u001b[0m in \u001b[0;36mfit\u001b[1;34m(self, x, y, batch_size, epochs, verbose, callbacks, validation_split, validation_data, shuffle, class_weight, sample_weight, initial_epoch, steps_per_epoch, validation_steps, **kwargs)\u001b[0m\n\u001b[0;32m   1703\u001b[0m                               \u001b[0minitial_epoch\u001b[0m\u001b[1;33m=\u001b[0m\u001b[0minitial_epoch\u001b[0m\u001b[1;33m,\u001b[0m\u001b[1;33m\u001b[0m\u001b[1;33m\u001b[0m\u001b[0m\n\u001b[0;32m   1704\u001b[0m                               \u001b[0msteps_per_epoch\u001b[0m\u001b[1;33m=\u001b[0m\u001b[0msteps_per_epoch\u001b[0m\u001b[1;33m,\u001b[0m\u001b[1;33m\u001b[0m\u001b[1;33m\u001b[0m\u001b[0m\n\u001b[1;32m-> 1705\u001b[1;33m                               validation_steps=validation_steps)\n\u001b[0m\u001b[0;32m   1706\u001b[0m \u001b[1;33m\u001b[0m\u001b[0m\n\u001b[0;32m   1707\u001b[0m     def evaluate(self, x=None, y=None,\n",
      "\u001b[1;32m~\\anaconda3\\envs\\test_tensor\\lib\\site-packages\\keras\\engine\\training.py\u001b[0m in \u001b[0;36m_fit_loop\u001b[1;34m(self, f, ins, out_labels, batch_size, epochs, verbose, callbacks, val_f, val_ins, shuffle, callback_metrics, initial_epoch, steps_per_epoch, validation_steps)\u001b[0m\n\u001b[0;32m   1233\u001b[0m                         \u001b[0mins_batch\u001b[0m\u001b[1;33m[\u001b[0m\u001b[0mi\u001b[0m\u001b[1;33m]\u001b[0m \u001b[1;33m=\u001b[0m \u001b[0mins_batch\u001b[0m\u001b[1;33m[\u001b[0m\u001b[0mi\u001b[0m\u001b[1;33m]\u001b[0m\u001b[1;33m.\u001b[0m\u001b[0mtoarray\u001b[0m\u001b[1;33m(\u001b[0m\u001b[1;33m)\u001b[0m\u001b[1;33m\u001b[0m\u001b[1;33m\u001b[0m\u001b[0m\n\u001b[0;32m   1234\u001b[0m \u001b[1;33m\u001b[0m\u001b[0m\n\u001b[1;32m-> 1235\u001b[1;33m                     \u001b[0mouts\u001b[0m \u001b[1;33m=\u001b[0m \u001b[0mf\u001b[0m\u001b[1;33m(\u001b[0m\u001b[0mins_batch\u001b[0m\u001b[1;33m)\u001b[0m\u001b[1;33m\u001b[0m\u001b[1;33m\u001b[0m\u001b[0m\n\u001b[0m\u001b[0;32m   1236\u001b[0m                     \u001b[1;32mif\u001b[0m \u001b[1;32mnot\u001b[0m \u001b[0misinstance\u001b[0m\u001b[1;33m(\u001b[0m\u001b[0mouts\u001b[0m\u001b[1;33m,\u001b[0m \u001b[0mlist\u001b[0m\u001b[1;33m)\u001b[0m\u001b[1;33m:\u001b[0m\u001b[1;33m\u001b[0m\u001b[1;33m\u001b[0m\u001b[0m\n\u001b[0;32m   1237\u001b[0m                         \u001b[0mouts\u001b[0m \u001b[1;33m=\u001b[0m \u001b[1;33m[\u001b[0m\u001b[0mouts\u001b[0m\u001b[1;33m]\u001b[0m\u001b[1;33m\u001b[0m\u001b[1;33m\u001b[0m\u001b[0m\n",
      "\u001b[1;32m~\\anaconda3\\envs\\test_tensor\\lib\\site-packages\\keras\\backend\\tensorflow_backend.py\u001b[0m in \u001b[0;36m__call__\u001b[1;34m(self, inputs)\u001b[0m\n\u001b[0;32m   2476\u001b[0m         \u001b[0msession\u001b[0m \u001b[1;33m=\u001b[0m \u001b[0mget_session\u001b[0m\u001b[1;33m(\u001b[0m\u001b[1;33m)\u001b[0m\u001b[1;33m\u001b[0m\u001b[1;33m\u001b[0m\u001b[0m\n\u001b[0;32m   2477\u001b[0m         updated = session.run(fetches=fetches, feed_dict=feed_dict,\n\u001b[1;32m-> 2478\u001b[1;33m                               **self.session_kwargs)\n\u001b[0m\u001b[0;32m   2479\u001b[0m         \u001b[1;32mreturn\u001b[0m \u001b[0mupdated\u001b[0m\u001b[1;33m[\u001b[0m\u001b[1;33m:\u001b[0m\u001b[0mlen\u001b[0m\u001b[1;33m(\u001b[0m\u001b[0mself\u001b[0m\u001b[1;33m.\u001b[0m\u001b[0moutputs\u001b[0m\u001b[1;33m)\u001b[0m\u001b[1;33m]\u001b[0m\u001b[1;33m\u001b[0m\u001b[1;33m\u001b[0m\u001b[0m\n\u001b[0;32m   2480\u001b[0m \u001b[1;33m\u001b[0m\u001b[0m\n",
      "\u001b[1;32m~\\anaconda3\\envs\\test_tensor\\lib\\site-packages\\tensorflow\\python\\client\\session.py\u001b[0m in \u001b[0;36mrun\u001b[1;34m(self, fetches, feed_dict, options, run_metadata)\u001b[0m\n\u001b[0;32m    893\u001b[0m     \u001b[1;32mtry\u001b[0m\u001b[1;33m:\u001b[0m\u001b[1;33m\u001b[0m\u001b[1;33m\u001b[0m\u001b[0m\n\u001b[0;32m    894\u001b[0m       result = self._run(None, fetches, feed_dict, options_ptr,\n\u001b[1;32m--> 895\u001b[1;33m                          run_metadata_ptr)\n\u001b[0m\u001b[0;32m    896\u001b[0m       \u001b[1;32mif\u001b[0m \u001b[0mrun_metadata\u001b[0m\u001b[1;33m:\u001b[0m\u001b[1;33m\u001b[0m\u001b[1;33m\u001b[0m\u001b[0m\n\u001b[0;32m    897\u001b[0m         \u001b[0mproto_data\u001b[0m \u001b[1;33m=\u001b[0m \u001b[0mtf_session\u001b[0m\u001b[1;33m.\u001b[0m\u001b[0mTF_GetBuffer\u001b[0m\u001b[1;33m(\u001b[0m\u001b[0mrun_metadata_ptr\u001b[0m\u001b[1;33m)\u001b[0m\u001b[1;33m\u001b[0m\u001b[1;33m\u001b[0m\u001b[0m\n",
      "\u001b[1;32m~\\anaconda3\\envs\\test_tensor\\lib\\site-packages\\tensorflow\\python\\client\\session.py\u001b[0m in \u001b[0;36m_run\u001b[1;34m(self, handle, fetches, feed_dict, options, run_metadata)\u001b[0m\n\u001b[0;32m   1126\u001b[0m     \u001b[1;32mif\u001b[0m \u001b[0mfinal_fetches\u001b[0m \u001b[1;32mor\u001b[0m \u001b[0mfinal_targets\u001b[0m \u001b[1;32mor\u001b[0m \u001b[1;33m(\u001b[0m\u001b[0mhandle\u001b[0m \u001b[1;32mand\u001b[0m \u001b[0mfeed_dict_tensor\u001b[0m\u001b[1;33m)\u001b[0m\u001b[1;33m:\u001b[0m\u001b[1;33m\u001b[0m\u001b[1;33m\u001b[0m\u001b[0m\n\u001b[0;32m   1127\u001b[0m       results = self._do_run(handle, final_targets, final_fetches,\n\u001b[1;32m-> 1128\u001b[1;33m                              feed_dict_tensor, options, run_metadata)\n\u001b[0m\u001b[0;32m   1129\u001b[0m     \u001b[1;32melse\u001b[0m\u001b[1;33m:\u001b[0m\u001b[1;33m\u001b[0m\u001b[1;33m\u001b[0m\u001b[0m\n\u001b[0;32m   1130\u001b[0m       \u001b[0mresults\u001b[0m \u001b[1;33m=\u001b[0m \u001b[1;33m[\u001b[0m\u001b[1;33m]\u001b[0m\u001b[1;33m\u001b[0m\u001b[1;33m\u001b[0m\u001b[0m\n",
      "\u001b[1;32m~\\anaconda3\\envs\\test_tensor\\lib\\site-packages\\tensorflow\\python\\client\\session.py\u001b[0m in \u001b[0;36m_do_run\u001b[1;34m(self, handle, target_list, fetch_list, feed_dict, options, run_metadata)\u001b[0m\n\u001b[0;32m   1342\u001b[0m     \u001b[1;32mif\u001b[0m \u001b[0mhandle\u001b[0m \u001b[1;32mis\u001b[0m \u001b[1;32mNone\u001b[0m\u001b[1;33m:\u001b[0m\u001b[1;33m\u001b[0m\u001b[1;33m\u001b[0m\u001b[0m\n\u001b[0;32m   1343\u001b[0m       return self._do_call(_run_fn, self._session, feeds, fetches, targets,\n\u001b[1;32m-> 1344\u001b[1;33m                            options, run_metadata)\n\u001b[0m\u001b[0;32m   1345\u001b[0m     \u001b[1;32melse\u001b[0m\u001b[1;33m:\u001b[0m\u001b[1;33m\u001b[0m\u001b[1;33m\u001b[0m\u001b[0m\n\u001b[0;32m   1346\u001b[0m       \u001b[1;32mreturn\u001b[0m \u001b[0mself\u001b[0m\u001b[1;33m.\u001b[0m\u001b[0m_do_call\u001b[0m\u001b[1;33m(\u001b[0m\u001b[0m_prun_fn\u001b[0m\u001b[1;33m,\u001b[0m \u001b[0mself\u001b[0m\u001b[1;33m.\u001b[0m\u001b[0m_session\u001b[0m\u001b[1;33m,\u001b[0m \u001b[0mhandle\u001b[0m\u001b[1;33m,\u001b[0m \u001b[0mfeeds\u001b[0m\u001b[1;33m,\u001b[0m \u001b[0mfetches\u001b[0m\u001b[1;33m)\u001b[0m\u001b[1;33m\u001b[0m\u001b[1;33m\u001b[0m\u001b[0m\n",
      "\u001b[1;32m~\\anaconda3\\envs\\test_tensor\\lib\\site-packages\\tensorflow\\python\\client\\session.py\u001b[0m in \u001b[0;36m_do_call\u001b[1;34m(self, fn, *args)\u001b[0m\n\u001b[0;32m   1348\u001b[0m   \u001b[1;32mdef\u001b[0m \u001b[0m_do_call\u001b[0m\u001b[1;33m(\u001b[0m\u001b[0mself\u001b[0m\u001b[1;33m,\u001b[0m \u001b[0mfn\u001b[0m\u001b[1;33m,\u001b[0m \u001b[1;33m*\u001b[0m\u001b[0margs\u001b[0m\u001b[1;33m)\u001b[0m\u001b[1;33m:\u001b[0m\u001b[1;33m\u001b[0m\u001b[1;33m\u001b[0m\u001b[0m\n\u001b[0;32m   1349\u001b[0m     \u001b[1;32mtry\u001b[0m\u001b[1;33m:\u001b[0m\u001b[1;33m\u001b[0m\u001b[1;33m\u001b[0m\u001b[0m\n\u001b[1;32m-> 1350\u001b[1;33m       \u001b[1;32mreturn\u001b[0m \u001b[0mfn\u001b[0m\u001b[1;33m(\u001b[0m\u001b[1;33m*\u001b[0m\u001b[0margs\u001b[0m\u001b[1;33m)\u001b[0m\u001b[1;33m\u001b[0m\u001b[1;33m\u001b[0m\u001b[0m\n\u001b[0m\u001b[0;32m   1351\u001b[0m     \u001b[1;32mexcept\u001b[0m \u001b[0merrors\u001b[0m\u001b[1;33m.\u001b[0m\u001b[0mOpError\u001b[0m \u001b[1;32mas\u001b[0m \u001b[0me\u001b[0m\u001b[1;33m:\u001b[0m\u001b[1;33m\u001b[0m\u001b[1;33m\u001b[0m\u001b[0m\n\u001b[0;32m   1352\u001b[0m       \u001b[0mmessage\u001b[0m \u001b[1;33m=\u001b[0m \u001b[0mcompat\u001b[0m\u001b[1;33m.\u001b[0m\u001b[0mas_text\u001b[0m\u001b[1;33m(\u001b[0m\u001b[0me\u001b[0m\u001b[1;33m.\u001b[0m\u001b[0mmessage\u001b[0m\u001b[1;33m)\u001b[0m\u001b[1;33m\u001b[0m\u001b[1;33m\u001b[0m\u001b[0m\n",
      "\u001b[1;32m~\\anaconda3\\envs\\test_tensor\\lib\\site-packages\\tensorflow\\python\\client\\session.py\u001b[0m in \u001b[0;36m_run_fn\u001b[1;34m(session, feed_dict, fetch_list, target_list, options, run_metadata)\u001b[0m\n\u001b[0;32m   1327\u001b[0m           return tf_session.TF_Run(session, options,\n\u001b[0;32m   1328\u001b[0m                                    \u001b[0mfeed_dict\u001b[0m\u001b[1;33m,\u001b[0m \u001b[0mfetch_list\u001b[0m\u001b[1;33m,\u001b[0m \u001b[0mtarget_list\u001b[0m\u001b[1;33m,\u001b[0m\u001b[1;33m\u001b[0m\u001b[1;33m\u001b[0m\u001b[0m\n\u001b[1;32m-> 1329\u001b[1;33m                                    status, run_metadata)\n\u001b[0m\u001b[0;32m   1330\u001b[0m \u001b[1;33m\u001b[0m\u001b[0m\n\u001b[0;32m   1331\u001b[0m     \u001b[1;32mdef\u001b[0m \u001b[0m_prun_fn\u001b[0m\u001b[1;33m(\u001b[0m\u001b[0msession\u001b[0m\u001b[1;33m,\u001b[0m \u001b[0mhandle\u001b[0m\u001b[1;33m,\u001b[0m \u001b[0mfeed_dict\u001b[0m\u001b[1;33m,\u001b[0m \u001b[0mfetch_list\u001b[0m\u001b[1;33m)\u001b[0m\u001b[1;33m:\u001b[0m\u001b[1;33m\u001b[0m\u001b[1;33m\u001b[0m\u001b[0m\n",
      "\u001b[1;31mKeyboardInterrupt\u001b[0m: "
     ]
    }
   ],
   "source": [
    "import numpy as np\n",
    "\n",
    "num_epochs = 100\n",
    "\n",
    "\n",
    "actiFunc = ['relu']\n",
    "lossFunc = ['categorical_crossentropy']\n",
    "hidden = [3]\n",
    "#node = [[4, 4], [4, 8], [4, 16], [4, 32], [8, 4], [8, 8], [8, 16], [8, 32], [16, 4], [16, 8], [16, 16], [16, 32], [32, 4], [32, 8], [32, 16], [32, 32]]\n",
    "node = [\n",
    "    [16, 4, 4], [16, 4, 8], [16, 4, 16], [16, 4, 32], [16, 8, 4], [16, 8, 8], [16, 8, 16], [16, 8, 32], [16, 16, 4], [16, 16, 8], [16, 16, 16], [16, 16, 32], [16, 32, 4], [16, 32, 8], [16, 32, 16], [16, 32, 32],\n",
    "    [32, 4, 4], [32, 4, 8], [32, 4, 16], [32, 4, 32], [32, 8, 4], [32, 8, 8], [32, 8, 16], [32, 8, 32], [32, 16, 4], [32, 16, 8], [32, 16, 16], [32, 16, 32], [32, 32, 4], [32, 32, 8], [32, 32, 16], [32, 32, 32]\n",
    "]\n",
    "batchSize = [128]\n",
    "dropout = [0.1]\n",
    "\n",
    "all_acc_histories = []\n",
    "all_loss_histories = []\n",
    "\n",
    "for i in range(len(actiFunc)):\n",
    "    for j in range(len(lossFunc)):\n",
    "        for k in range(len(hidden)):\n",
    "            for l in range(len(node)):\n",
    "                for m in range(len(batchSize)):\n",
    "                    for n in range(len(dropout)):\n",
    "                        print('Activation:', actiFunc[i] , '  Loss:', lossFunc[j] , '  HiddenLayer:', hidden[k] , '  Node:[', node[l][0], ',', node[l][1] , ',', node[l][2], ']  BatchSize:', batchSize[m], '  Dropout:', dropout[n])\n",
    "    \n",
    "                        model = build_model(actiFunc[i], lossFunc[j], hidden[k], node[l], dropout[n])\n",
    "\n",
    "                        model.summary()\n",
    "            \n",
    "                        history = model.fit(train_data, train_label, validation_data=(val_data, val_label), epochs=num_epochs, batch_size=batchSize[m], verbose=False)\n",
    "    \n",
    "                        acc_history = history.history['val_acc']\n",
    "                        all_acc_histories.append(acc_history)\n",
    "                        loss_history = history.history['val_loss']\n",
    "                        all_loss_histories.append(loss_history)\n",
    "    \n",
    "                        print('loss min :', min(loss_history), '  acc max:', max(acc_history))\n",
    "                        print('loss mean :', np.mean(loss_history), '  acc mean:', np.mean(acc_history))\n",
    "    \n",
    "                        print()\n",
    "                        print()"
   ]
  }
 ],
 "metadata": {
  "kernelspec": {
   "display_name": "Python 3",
   "language": "python",
   "name": "python3"
  },
  "language_info": {
   "codemirror_mode": {
    "name": "ipython",
    "version": 3
   },
   "file_extension": ".py",
   "mimetype": "text/x-python",
   "name": "python",
   "nbconvert_exporter": "python",
   "pygments_lexer": "ipython3",
   "version": "3.6.10"
  }
 },
 "nbformat": 4,
 "nbformat_minor": 4
}
