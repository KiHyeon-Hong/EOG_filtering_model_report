{
 "cells": [
  {
   "cell_type": "code",
   "execution_count": 1,
   "metadata": {},
   "outputs": [],
   "source": [
    "def featureExtraction(fileDir, minCount, maxCount, leftLight):\n",
    "    userHp1 = []\n",
    "    userLp1 = []\n",
    "    userLhpl1 = []\n",
    "    userLlpl1 = []\n",
    "    userHpl1 = []\n",
    "    userLpl1 = []\n",
    "    userLhpg1 = []\n",
    "    userLlpg1 = []\n",
    "    userRhpg1 = []\n",
    "    userRlpg1 = []\n",
    "    userBlink1 = []\n",
    "    userNotBlink1 = []\n",
    "    \n",
    "    for count in range(minCount, maxCount):\n",
    "        file = open(fileDir + '/file' + str(count) + '-' + str(leftLight) + '.txt', 'r')\n",
    "        x = file.read()\n",
    "        file.close()\n",
    "    \n",
    "        x = x.split(',')\n",
    "    \n",
    "        data1 = []\n",
    "    \n",
    "        for index, item in enumerate(x):\n",
    "            data1.append(float(item))\n",
    "        \n",
    "        for index, item in enumerate(x):\n",
    "            if(index != len(data1) -1):\n",
    "                data1[index] = data1[index + 1]\n",
    "            \n",
    "        temp = 0\n",
    "        index = 0\n",
    "\n",
    "        start1 = []\n",
    "        middle1 = []\n",
    "        finish1 = []\n",
    "\n",
    "        for i in range(0, len(data1)):\n",
    "            if((temp + 150 < i) and (data1[i] > 100)):\n",
    "                for j in range(i, 0, -1):\n",
    "                    if(data1[j] <= 0):\n",
    "                        start1.append(j)\n",
    "                        break\n",
    "                \n",
    "                for j in range(start1[index] + 1, len(data1)):\n",
    "                    if(data1[j] <= 0):\n",
    "                        middle1.append(j)\n",
    "                        break\n",
    "                \n",
    "                for j in range(middle1[index] + 1, len(data1)):\n",
    "                    if(data1[j] >= 0):\n",
    "                        finish1.append(j)\n",
    "                        break\n",
    "                \n",
    "                i = finish1[index]\n",
    "                index = index + 1\n",
    "                temp = i\n",
    "   \n",
    "        temp = 0\n",
    "    \n",
    "        hp1 = []\n",
    "        lp1 = []\n",
    "        lhpl1 = []\n",
    "        llpl1 = []\n",
    "        hpl1 = []\n",
    "        lpl1 = []\n",
    "        lhpg1 = []\n",
    "        llpg1 = []\n",
    "        rhpg1 = []\n",
    "        rlpg1 = []\n",
    "        blink1 = []\n",
    "        notBlink1 = []\n",
    "    \n",
    "        index = 0;\n",
    "    \n",
    "        for i in range(start1[0], finish1[len(finish1) - 1]):\n",
    "            hp1.append(0)\n",
    "            lp1.append(0)\n",
    "            lhpl1.append(0)\n",
    "            llpl1.append(0)\n",
    "            hpl1.append(0)\n",
    "            lpl1.append(0)\n",
    "            lhpg1.append(0)\n",
    "            llpg1.append(0)\n",
    "            rhpg1.append(0)\n",
    "            rlpg1.append(0)\n",
    "            blink1.append(0)\n",
    "            notBlink1.append(0)\n",
    "    \n",
    "            for j in range(start1[index], finish1[index]):\n",
    "                if(hp1[index] < data1[j]):\n",
    "                    hp1[index] = data1[j]\n",
    "                    lhpl1[index] = j - start1[index]\n",
    "    \n",
    "            for j in range(start1[index], finish1[index]):\n",
    "                if(hp1[index] > data1[j]):\n",
    "                    lp1[index] = data1[j]\n",
    "                    llpl1[index] = j - start1[index]\n",
    "            \n",
    "            hpl1[index] = middle1[index] - start1[index]\n",
    "            lpl1[index] = finish1[index] - middle1[index]\n",
    "    \n",
    "            lhpg1[index] = hp1[index] / lhpl1[index]\n",
    "            llpg1[index] = lp1[index] / llpl1[index]\n",
    "            rhpg1[index] = hp1[index] / (hpl1[index] - lhpg1[index])\n",
    "            rlpg1[index] = lp1[index] / (lpl1[index] - llpl1[index])\n",
    "    \n",
    "            index = index + 1\n",
    "    \n",
    "            if(len(start1) == index):\n",
    "                break\n",
    "    \n",
    "            i = start1[index]\n",
    "        \n",
    "        index = 0;\n",
    "        \n",
    "        for i in range(0, len(finish1)):\n",
    "            blink1[i] = finish1[i] - start1[i]\n",
    "\n",
    "        for i in range(0, len(finish1) - 1):\n",
    "            notBlink1[i] = start1[i + 1] - finish1[i]\n",
    "        \n",
    "        for i in range(0, len(finish1)):\n",
    "            userHp1.append(hp1[i])\n",
    "            userLp1.append(lp1[i])\n",
    "            userLhpl1.append(lhpl1[i])\n",
    "            userLlpl1.append(llpl1[i])\n",
    "            userHpl1.append(hpl1[i])\n",
    "            userLpl1.append(lpl1[i])\n",
    "            userLhpg1.append(lhpg1[i])\n",
    "            userLlpg1.append(llpg1[i])\n",
    "            userRhpg1.append(rhpg1[i])\n",
    "            userRlpg1.append(rlpg1[i])\n",
    "            userBlink1.append(blink1[i])\n",
    "            userNotBlink1.append(notBlink1[i])\n",
    "            \n",
    "    return userHp1, userLp1, userLhpl1, userLlpl1, userHpl1, userLpl1, userLhpg1, userLlpg1, userRhpg1, userRlpg1, userBlink1, userNotBlink1"
   ]
  },
  {
   "cell_type": "code",
   "execution_count": null,
   "metadata": {},
   "outputs": [],
   "source": []
  },
  {
   "cell_type": "code",
   "execution_count": 2,
   "metadata": {},
   "outputs": [],
   "source": [
    "user1Data  = []\n",
    "user1Label = []"
   ]
  },
  {
   "cell_type": "code",
   "execution_count": 3,
   "metadata": {},
   "outputs": [],
   "source": [
    "userHp1, userLp1, userLhpl1, userLlpl1, userHpl1, userLpl1, userLhpg1, userLlpg1, userRhpg1, userRlpg1, userBlink1, userNotBlink1 = featureExtraction('C:/EOGData/user1', 0, 49, 1)"
   ]
  },
  {
   "cell_type": "code",
   "execution_count": 4,
   "metadata": {},
   "outputs": [],
   "source": [
    "userHp2, userLp2, userLhpl2, userLlpl2, userHpl2, userLpl2, userLhpg2, userLlpg2, userRhpg2, userRlpg2, userBlink2, userNotBlink2 = featureExtraction('C:/EOGData/user1', 0, 49, 2)"
   ]
  },
  {
   "cell_type": "code",
   "execution_count": 5,
   "metadata": {},
   "outputs": [],
   "source": [
    "sum = len(userHp1) +len(userHp2)"
   ]
  },
  {
   "cell_type": "code",
   "execution_count": 6,
   "metadata": {},
   "outputs": [],
   "source": [
    "userHp1 = userHp1 + userHp2\n",
    "userLp1 = userLp1 + userLp2\n",
    "userLhpl1 = userLhpl1 + userLhpl2\n",
    "userLlpl1 = userLlpl1 + userLlpl2\n",
    "userHpl1 = userHpl1 + userHpl2\n",
    "userLpl1 = userLpl1 + userLpl2\n",
    "userLhpg1 = userLhpg1 + userLhpg2\n",
    "userLlpg1 = userLlpg1 + userLlpg2\n",
    "userRhpg1 = userRhpg1 + userRhpg2\n",
    "userRlpg1 = userRlpg1 + userRlpg2\n",
    "userBlink1 = userBlink1 + userBlink2\n",
    "userNotBlink1 = userNotBlink1 + userNotBlink2"
   ]
  },
  {
   "cell_type": "code",
   "execution_count": 7,
   "metadata": {},
   "outputs": [],
   "source": [
    "for i in range(0, sum):\n",
    "    user1Data.append([userHp1[i], userLp1[i], userLhpl1[i], userLlpl1[i], userHpl1[i], userLpl1[i], userLhpg1[i], userLlpg1[i], userRhpg1[i], userRlpg1[i], userBlink1[i], userNotBlink1[i]])\n",
    "    user1Label.append(0)"
   ]
  },
  {
   "cell_type": "code",
   "execution_count": null,
   "metadata": {},
   "outputs": [],
   "source": []
  },
  {
   "cell_type": "code",
   "execution_count": 8,
   "metadata": {},
   "outputs": [],
   "source": [
    "user2Data  = []\n",
    "user2Label = []"
   ]
  },
  {
   "cell_type": "code",
   "execution_count": 9,
   "metadata": {},
   "outputs": [],
   "source": [
    "userHp1, userLp1, userLhpl1, userLlpl1, userHpl1, userLpl1, userLhpg1, userLlpg1, userRhpg1, userRlpg1, userBlink1, userNotBlink1 = featureExtraction('C:/EOGData/user2', 0, 49, 1)"
   ]
  },
  {
   "cell_type": "code",
   "execution_count": 10,
   "metadata": {},
   "outputs": [],
   "source": [
    "userHp2, userLp2, userLhpl2, userLlpl2, userHpl2, userLpl2, userLhpg2, userLlpg2, userRhpg2, userRlpg2, userBlink2, userNotBlink2 = featureExtraction('C:/EOGData/user2', 0, 49, 2)"
   ]
  },
  {
   "cell_type": "code",
   "execution_count": 11,
   "metadata": {},
   "outputs": [],
   "source": [
    "sum = len(userHp1) +len(userHp2)"
   ]
  },
  {
   "cell_type": "code",
   "execution_count": 12,
   "metadata": {},
   "outputs": [],
   "source": [
    "userHp1 = userHp1 + userHp2\n",
    "userLp1 = userLp1 + userLp2\n",
    "userLhpl1 = userLhpl1 + userLhpl2\n",
    "userLlpl1 = userLlpl1 + userLlpl2\n",
    "userHpl1 = userHpl1 + userHpl2\n",
    "userLpl1 = userLpl1 + userLpl2\n",
    "userLhpg1 = userLhpg1 + userLhpg2\n",
    "userLlpg1 = userLlpg1 + userLlpg2\n",
    "userRhpg1 = userRhpg1 + userRhpg2\n",
    "userRlpg1 = userRlpg1 + userRlpg2\n",
    "userBlink1 = userBlink1 + userBlink2\n",
    "userNotBlink1 = userNotBlink1 + userNotBlink2"
   ]
  },
  {
   "cell_type": "code",
   "execution_count": 13,
   "metadata": {},
   "outputs": [],
   "source": [
    "for i in range(0, sum):\n",
    "    user2Data.append([userHp1[i], userLp1[i], userLhpl1[i], userLlpl1[i], userHpl1[i], userLpl1[i], userLhpg1[i], userLlpg1[i], userRhpg1[i], userRlpg1[i], userBlink1[i], userNotBlink1[i]])\n",
    "    user2Label.append(1)"
   ]
  },
  {
   "cell_type": "code",
   "execution_count": null,
   "metadata": {},
   "outputs": [],
   "source": []
  },
  {
   "cell_type": "code",
   "execution_count": 14,
   "metadata": {},
   "outputs": [],
   "source": [
    "user3Data  = []\n",
    "user3Label = []"
   ]
  },
  {
   "cell_type": "code",
   "execution_count": 15,
   "metadata": {},
   "outputs": [],
   "source": [
    "userHp1, userLp1, userLhpl1, userLlpl1, userHpl1, userLpl1, userLhpg1, userLlpg1, userRhpg1, userRlpg1, userBlink1, userNotBlink1 = featureExtraction('C:/EOGData/artifact/doridori', 0, 3, 1)"
   ]
  },
  {
   "cell_type": "code",
   "execution_count": 16,
   "metadata": {},
   "outputs": [],
   "source": [
    "userHp2, userLp2, userLhpl2, userLlpl2, userHpl2, userLpl2, userLhpg2, userLlpg2, userRhpg2, userRlpg2, userBlink2, userNotBlink2 = featureExtraction('C:/EOGData/artifact/doridori', 0, 3, 2)"
   ]
  },
  {
   "cell_type": "code",
   "execution_count": 17,
   "metadata": {},
   "outputs": [],
   "source": [
    "sum = len(userHp1) +len(userHp2)"
   ]
  },
  {
   "cell_type": "code",
   "execution_count": 18,
   "metadata": {},
   "outputs": [],
   "source": [
    "userHp1 = userHp1 + userHp2\n",
    "userLp1 = userLp1 + userLp2\n",
    "userLhpl1 = userLhpl1 + userLhpl2\n",
    "userLlpl1 = userLlpl1 + userLlpl2\n",
    "userHpl1 = userHpl1 + userHpl2\n",
    "userLpl1 = userLpl1 + userLpl2\n",
    "userLhpg1 = userLhpg1 + userLhpg2\n",
    "userLlpg1 = userLlpg1 + userLlpg2\n",
    "userRhpg1 = userRhpg1 + userRhpg2\n",
    "userRlpg1 = userRlpg1 + userRlpg2\n",
    "userBlink1 = userBlink1 + userBlink2\n",
    "userNotBlink1 = userNotBlink1 + userNotBlink2"
   ]
  },
  {
   "cell_type": "code",
   "execution_count": 19,
   "metadata": {},
   "outputs": [],
   "source": [
    "for i in range(0, sum):\n",
    "    user3Data.append([userHp1[i], userLp1[i], userLhpl1[i], userLlpl1[i], userHpl1[i], userLpl1[i], userLhpg1[i], userLlpg1[i], userRhpg1[i], userRlpg1[i], userBlink1[i], userNotBlink1[i]])\n",
    "    user3Label.append(2)"
   ]
  },
  {
   "cell_type": "code",
   "execution_count": null,
   "metadata": {},
   "outputs": [],
   "source": []
  },
  {
   "cell_type": "code",
   "execution_count": 20,
   "metadata": {},
   "outputs": [],
   "source": [
    "import numpy as np"
   ]
  },
  {
   "cell_type": "code",
   "execution_count": 21,
   "metadata": {},
   "outputs": [],
   "source": [
    "user1Data = np.array(user1Data)\n",
    "user2Data = np.array(user2Data)\n",
    "user3Data = np.array(user3Data)\n",
    "\n",
    "user1Label = np.array(user1Label)\n",
    "user2Label = np.array(user2Label)\n",
    "user3Label = np.array(user3Label)"
   ]
  },
  {
   "cell_type": "code",
   "execution_count": 22,
   "metadata": {},
   "outputs": [],
   "source": [
    "data = np.concatenate((user1Data, user2Data, user3Data), axis=0)"
   ]
  },
  {
   "cell_type": "code",
   "execution_count": 23,
   "metadata": {},
   "outputs": [
    {
     "data": {
      "text/plain": [
       "3239"
      ]
     },
     "execution_count": 23,
     "metadata": {},
     "output_type": "execute_result"
    }
   ],
   "source": [
    "len(data)"
   ]
  },
  {
   "cell_type": "code",
   "execution_count": 24,
   "metadata": {},
   "outputs": [],
   "source": [
    "label = np.concatenate((user1Label, user2Label, user3Label), axis=0)"
   ]
  },
  {
   "cell_type": "code",
   "execution_count": 25,
   "metadata": {},
   "outputs": [
    {
     "data": {
      "text/plain": [
       "3239"
      ]
     },
     "execution_count": 25,
     "metadata": {},
     "output_type": "execute_result"
    }
   ],
   "source": [
    "len(label)"
   ]
  },
  {
   "cell_type": "code",
   "execution_count": 26,
   "metadata": {},
   "outputs": [],
   "source": [
    "s = np.arange(data.shape[0])\n",
    "np.random.shuffle(s)"
   ]
  },
  {
   "cell_type": "code",
   "execution_count": 27,
   "metadata": {},
   "outputs": [],
   "source": [
    "data = data[s]\n",
    "label = label[s]"
   ]
  },
  {
   "cell_type": "code",
   "execution_count": 28,
   "metadata": {},
   "outputs": [
    {
     "data": {
      "text/plain": [
       "array([1, 1, 2, ..., 2, 2, 2])"
      ]
     },
     "execution_count": 28,
     "metadata": {},
     "output_type": "execute_result"
    }
   ],
   "source": [
    "label"
   ]
  },
  {
   "cell_type": "code",
   "execution_count": 29,
   "metadata": {},
   "outputs": [],
   "source": [
    "tempLabel = []\n",
    "testLabel = label[2600:]"
   ]
  },
  {
   "cell_type": "code",
   "execution_count": 30,
   "metadata": {},
   "outputs": [],
   "source": [
    "for i in range(0, len(label)):\n",
    "    if(label[i] == 0):\n",
    "        tempLabel.append([1, 0, 0])\n",
    "    elif(label[i] == 1):\n",
    "        tempLabel.append([0, 1, 0])\n",
    "    else:\n",
    "        tempLabel.append([0, 0, 1])"
   ]
  },
  {
   "cell_type": "code",
   "execution_count": 31,
   "metadata": {},
   "outputs": [],
   "source": [
    "label = tempLabel"
   ]
  },
  {
   "cell_type": "code",
   "execution_count": 32,
   "metadata": {},
   "outputs": [],
   "source": [
    "label = np.array(label)"
   ]
  },
  {
   "cell_type": "code",
   "execution_count": 33,
   "metadata": {},
   "outputs": [],
   "source": [
    "train_data = data[:2000]\n",
    "val_data = data[2000:2600]\n",
    "test_data = data[2600:]\n",
    "\n",
    "train_label = label[:2000]\n",
    "val_label = label[2000:2600]\n",
    "test_label = label[2600:]"
   ]
  },
  {
   "cell_type": "code",
   "execution_count": null,
   "metadata": {},
   "outputs": [],
   "source": []
  },
  {
   "cell_type": "code",
   "execution_count": 34,
   "metadata": {},
   "outputs": [],
   "source": [
    "mean = train_data.mean(axis=0)\n",
    "train_data -= mean\n",
    "std = train_data.std(axis=0)\n",
    "train_data /= std\n",
    "\n",
    "val_data -= mean\n",
    "val_data /= std\n",
    "\n",
    "test_data -= mean\n",
    "test_data /= std"
   ]
  },
  {
   "cell_type": "code",
   "execution_count": null,
   "metadata": {},
   "outputs": [],
   "source": []
  },
  {
   "cell_type": "code",
   "execution_count": 35,
   "metadata": {},
   "outputs": [
    {
     "name": "stderr",
     "output_type": "stream",
     "text": [
      "Using TensorFlow backend.\n",
      "C:\\Users\\HongGi-hyeon\\anaconda3\\envs\\test_tensor\\lib\\site-packages\\tensorflow\\python\\framework\\dtypes.py:493: FutureWarning: Passing (type, 1) or '1type' as a synonym of type is deprecated; in a future version of numpy, it will be understood as (type, (1,)) / '(1,)type'.\n",
      "  _np_qint8 = np.dtype([(\"qint8\", np.int8, 1)])\n",
      "C:\\Users\\HongGi-hyeon\\anaconda3\\envs\\test_tensor\\lib\\site-packages\\tensorflow\\python\\framework\\dtypes.py:494: FutureWarning: Passing (type, 1) or '1type' as a synonym of type is deprecated; in a future version of numpy, it will be understood as (type, (1,)) / '(1,)type'.\n",
      "  _np_quint8 = np.dtype([(\"quint8\", np.uint8, 1)])\n",
      "C:\\Users\\HongGi-hyeon\\anaconda3\\envs\\test_tensor\\lib\\site-packages\\tensorflow\\python\\framework\\dtypes.py:495: FutureWarning: Passing (type, 1) or '1type' as a synonym of type is deprecated; in a future version of numpy, it will be understood as (type, (1,)) / '(1,)type'.\n",
      "  _np_qint16 = np.dtype([(\"qint16\", np.int16, 1)])\n",
      "C:\\Users\\HongGi-hyeon\\anaconda3\\envs\\test_tensor\\lib\\site-packages\\tensorflow\\python\\framework\\dtypes.py:496: FutureWarning: Passing (type, 1) or '1type' as a synonym of type is deprecated; in a future version of numpy, it will be understood as (type, (1,)) / '(1,)type'.\n",
      "  _np_quint16 = np.dtype([(\"quint16\", np.uint16, 1)])\n",
      "C:\\Users\\HongGi-hyeon\\anaconda3\\envs\\test_tensor\\lib\\site-packages\\tensorflow\\python\\framework\\dtypes.py:497: FutureWarning: Passing (type, 1) or '1type' as a synonym of type is deprecated; in a future version of numpy, it will be understood as (type, (1,)) / '(1,)type'.\n",
      "  _np_qint32 = np.dtype([(\"qint32\", np.int32, 1)])\n",
      "C:\\Users\\HongGi-hyeon\\anaconda3\\envs\\test_tensor\\lib\\site-packages\\tensorflow\\python\\framework\\dtypes.py:502: FutureWarning: Passing (type, 1) or '1type' as a synonym of type is deprecated; in a future version of numpy, it will be understood as (type, (1,)) / '(1,)type'.\n",
      "  np_resource = np.dtype([(\"resource\", np.ubyte, 1)])\n"
     ]
    }
   ],
   "source": [
    "from keras import models\n",
    "from keras import layers\n",
    "from keras import regularizers\n",
    "from keras import optimizers"
   ]
  },
  {
   "cell_type": "code",
   "execution_count": 36,
   "metadata": {},
   "outputs": [],
   "source": [
    "from sklearn.model_selection import train_test_split\n",
    "from sklearn.linear_model import LogisticRegression\n",
    "from sklearn.metrics import confusion_matrix\n",
    "\n",
    "import pandas as pd\n",
    "from sklearn.metrics import auc\n",
    "from sklearn.metrics import roc_curve, roc_auc_score\n",
    "\n",
    "\n",
    "import matplotlib as mpl\n",
    "import matplotlib.pyplot as plt"
   ]
  },
  {
   "cell_type": "code",
   "execution_count": null,
   "metadata": {},
   "outputs": [],
   "source": []
  },
  {
   "cell_type": "code",
   "execution_count": 37,
   "metadata": {},
   "outputs": [],
   "source": [
    "def build_model(actiFunc, lossFunc, hidden, node, dropout):\n",
    "    model = models.Sequential()\n",
    "    \n",
    "    model.add(layers.Dense(node[0], activation=actiFunc, input_shape=(12, )))\n",
    "    model.add(layers.Dropout(dropout))\n",
    "    \n",
    "    if(hidden == 2):\n",
    "        model.add(layers.Dense(node[1], activation=actiFunc))\n",
    "        model.add(layers.Dropout(dropout))\n",
    "    \n",
    "    if(hidden == 3):\n",
    "        model.add(layers.Dense(node[1], activation=actiFunc))\n",
    "        model.add(layers.Dropout(dropout))\n",
    "        model.add(layers.Dense(node[2], activation=actiFunc))\n",
    "        model.add(layers.Dropout(dropout))\n",
    "    \n",
    "    model.add(layers.Dense(3, activation='softmax'))\n",
    "    model.compile(optimizer='rmsprop', loss=lossFunc, metrics=['accuracy'])\n",
    "    return model"
   ]
  },
  {
   "cell_type": "code",
   "execution_count": 38,
   "metadata": {},
   "outputs": [
    {
     "name": "stdout",
     "output_type": "stream",
     "text": [
      "_________________________________________________________________\n",
      "Layer (type)                 Output Shape              Param #   \n",
      "=================================================================\n",
      "dense_1 (Dense)              (None, 32)                416       \n",
      "_________________________________________________________________\n",
      "dropout_1 (Dropout)          (None, 32)                0         \n",
      "_________________________________________________________________\n",
      "dense_2 (Dense)              (None, 4)                 132       \n",
      "_________________________________________________________________\n",
      "dropout_2 (Dropout)          (None, 4)                 0         \n",
      "_________________________________________________________________\n",
      "dense_3 (Dense)              (None, 16)                80        \n",
      "_________________________________________________________________\n",
      "dropout_3 (Dropout)          (None, 16)                0         \n",
      "_________________________________________________________________\n",
      "dense_4 (Dense)              (None, 3)                 51        \n",
      "=================================================================\n",
      "Total params: 679\n",
      "Trainable params: 679\n",
      "Non-trainable params: 0\n",
      "_________________________________________________________________\n",
      "loss min : 0.21461945633093515   acc max: 0.9316666626930237\n",
      "loss mean : 0.25902323732740345   acc mean: 0.9171833304511177\n"
     ]
    },
    {
     "data": {
      "image/png": "[encoded data removed]",
      "text/plain": [
       "<Figure size 432x288 with 2 Axes>"
      ]
     },
     "metadata": {
      "needs_background": "light"
     },
     "output_type": "display_data"
    }
   ],
   "source": [
    "import numpy as np\n",
    "\n",
    "num_epochs = 300\n",
    "\n",
    "\n",
    "actiFunc = ['relu']\n",
    "lossFunc = ['categorical_crossentropy']\n",
    "hidden = [3]\n",
    "#node = [[4, 4], [4, 8], [4, 16], [4, 32], [8, 4], [8, 8], [8, 16], [8, 32], [16, 4], [16, 8], [16, 16], [16, 32], [32, 4], [32, 8], [32, 16], [32, 32]]\n",
    "node = [\n",
    "    [16, 4, 4], [16, 4, 8], [16, 4, 16], [16, 4, 32], [16, 8, 4], [16, 8, 8], [16, 8, 16], [16, 8, 32], [16, 16, 4], [16, 16, 8], [16, 16, 16], [16, 16, 32], [16, 32, 4], [16, 32, 8], [16, 32, 16], [16, 32, 32],\n",
    "    [32, 4, 4], [32, 4, 8], [32, 4, 16], [32, 4, 32], [32, 8, 4], [32, 8, 8], [32, 8, 16], [32, 8, 32], [32, 16, 4], [32, 16, 8], [32, 16, 16], [32, 16, 32], [32, 32, 4], [32, 32, 8], [32, 32, 16], [32, 32, 32]\n",
    "]\n",
    "batchSize = [128]\n",
    "dropout = [0.1]\n",
    "\n",
    "all_acc_histories = []\n",
    "all_loss_histories = []\n",
    "\n",
    "    \n",
    "model = build_model(actiFunc[0], lossFunc[0], hidden[0], node[18], dropout[0])\n",
    "\n",
    "model.summary()\n",
    "            \n",
    "history = model.fit(train_data, train_label, validation_data=(val_data, val_label), epochs=num_epochs, batch_size=batchSize[0], verbose=False)\n",
    "    \n",
    "acc_history = history.history['val_acc']\n",
    "all_acc_histories.append(acc_history)\n",
    "loss_history = history.history['val_loss']\n",
    "all_loss_histories.append(loss_history)\n",
    "    \n",
    "print('loss min :', min(loss_history), '  acc max:', max(acc_history))\n",
    "print('loss mean :', np.mean(loss_history), '  acc mean:', np.mean(acc_history))\n",
    "\n",
    "\n",
    "\n",
    "fig, loss_ax = plt.subplots()\n",
    "acc_ax = loss_ax.twinx()\n",
    "\n",
    "loss_ax.plot(history.history['loss'], 'y', label='train loss')\n",
    "loss_ax.plot(history.history['val_loss'], 'r', label='val loss')\n",
    "\n",
    "acc_ax.plot(history.history['acc'], 'b', label='train acc')\n",
    "acc_ax.plot(history.history['val_acc'], 'g', label='val acc')\n",
    "\n",
    "loss_ax.set_xlabel('epoch')\n",
    "loss_ax.set_ylabel('loss')\n",
    "acc_ax.set_ylabel('accuray')\n",
    "\n",
    "loss_ax.legend(loc='upper left')\n",
    "acc_ax.legend(loc='lower left')\n",
    "\n",
    "plt.show()"
   ]
  },
  {
   "cell_type": "code",
   "execution_count": null,
   "metadata": {},
   "outputs": [],
   "source": []
  },
  {
   "cell_type": "code",
   "execution_count": 39,
   "metadata": {},
   "outputs": [],
   "source": [
    "y_val_cat_prob = model.predict_proba(test_data)"
   ]
  },
  {
   "cell_type": "code",
   "execution_count": null,
   "metadata": {},
   "outputs": [],
   "source": []
  },
  {
   "cell_type": "code",
   "execution_count": 40,
   "metadata": {},
   "outputs": [],
   "source": [
    "temp_test_data = []\n",
    "temp_test_label = []"
   ]
  },
  {
   "cell_type": "code",
   "execution_count": 41,
   "metadata": {},
   "outputs": [],
   "source": [
    "for i in range(0, len(y_val_cat_prob)):\n",
    "    if(np.argmax(y_val_cat_prob[i]) == 2):\n",
    "        temp_test_data.append(max(y_val_cat_prob[i]))\n",
    "    else:\n",
    "        temp_test_data.append(1 - (max(y_val_cat_prob[i])))\n",
    "        \n",
    "    if(testLabel[i] == 2):\n",
    "        temp_test_label.append(1)\n",
    "    else:\n",
    "        temp_test_label.append(0)"
   ]
  },
  {
   "cell_type": "code",
   "execution_count": 42,
   "metadata": {},
   "outputs": [
    {
     "data": {
      "text/plain": [
       "639"
      ]
     },
     "execution_count": 42,
     "metadata": {},
     "output_type": "execute_result"
    }
   ],
   "source": [
    "len(temp_test_label)"
   ]
  },
  {
   "cell_type": "code",
   "execution_count": 43,
   "metadata": {},
   "outputs": [
    {
     "data": {
      "text/plain": [
       "639"
      ]
     },
     "execution_count": 43,
     "metadata": {},
     "output_type": "execute_result"
    }
   ],
   "source": [
    "len(y_val_cat_prob)"
   ]
  },
  {
   "cell_type": "code",
   "execution_count": 44,
   "metadata": {},
   "outputs": [],
   "source": [
    "fpr, tpr, thresholds = roc_curve(temp_test_label, temp_test_data)"
   ]
  },
  {
   "cell_type": "code",
   "execution_count": 45,
   "metadata": {},
   "outputs": [
    {
     "name": "stderr",
     "output_type": "stream",
     "text": [
      "No handles with labels found to put in legend.\n"
     ]
    },
    {
     "data": {
      "image/png": "[encoded data removed]",
      "text/plain": [
       "<Figure size 432x288 with 1 Axes>"
      ]
     },
     "metadata": {
      "needs_background": "light"
     },
     "output_type": "display_data"
    }
   ],
   "source": [
    "plt.figure()\n",
    "lw = 2\n",
    "plt.plot(fpr, tpr, color='darkorange')\n",
    "plt.plot([0, 1], [0, 1], color='navy', lw=lw, linestyle='--')\n",
    "\n",
    "plt.xlim([0.0, 1.0])\n",
    "plt.ylim([0.0, 1.05])\n",
    "\n",
    "plt.xlabel('False Positive Rate')\n",
    "plt.ylabel('True Positive Rate')\n",
    "plt.title('Receiver operating characteristic example')\n",
    "plt.legend(loc=\"lower right\")\n",
    "plt.show()"
   ]
  },
  {
   "cell_type": "code",
   "execution_count": null,
   "metadata": {},
   "outputs": [],
   "source": []
  },
  {
   "cell_type": "code",
   "execution_count": null,
   "metadata": {},
   "outputs": [],
   "source": []
  }
 ],
 "metadata": {
  "kernelspec": {
   "display_name": "Python 3",
   "language": "python",
   "name": "python3"
  },
  "language_info": {
   "codemirror_mode": {
    "name": "ipython",
    "version": 3
   },
   "file_extension": ".py",
   "mimetype": "text/x-python",
   "name": "python",
   "nbconvert_exporter": "python",
   "pygments_lexer": "ipython3",
   "version": "3.6.10"
  }
 },
 "nbformat": 4,
 "nbformat_minor": 4
}
